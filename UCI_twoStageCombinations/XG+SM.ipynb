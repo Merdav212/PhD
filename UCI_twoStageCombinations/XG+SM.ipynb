{
 "cells": [
  {
   "cell_type": "code",
   "execution_count": 4,
   "metadata": {
    "jupyter": {
     "source_hidden": true
    }
   },
   "outputs": [],
   "source": [
    "import pandas as pd\n",
    "#!pip install tensorflow==1.14.0\n",
    "import numpy as np\n",
    "import pandas as pd\n",
    "import keras\n",
    "import tensorflow as tf\n",
    "import ssl\n",
    "import math\n",
    "import matplotlib.pyplot as plt\n",
    "import operator\n",
    "\n",
    "from collections import defaultdict\n",
    "from sklearn import preprocessing\n",
    "from sklearn.model_selection import train_test_split, KFold\n",
    "from sklearn.impute import SimpleImputer\n",
    "from sklearn.preprocessing import normalize, StandardScaler\n",
    "from sklearn.decomposition import PCA\n",
    "from sklearn.svm import LinearSVC, SVC\n",
    "from sklearn.metrics import confusion_matrix, classification_report, f1_score,accuracy_score\n",
    "from sklearn.feature_selection import SelectFromModel\n",
    "from sklearn.ensemble import RandomForestClassifier\n",
    "\n",
    "from tensorflow.keras.models import Sequential\n",
    "from tensorflow.keras.layers import Dense, Dropout, Flatten, LSTM\n",
    "from tensorflow.keras.layers import Conv1D, MaxPooling1D,BatchNormalization,GlobalMaxPooling1D,MaxPooling1D\n",
    "from keras.regularizers import l2,l1\n",
    "from collections import Counter\n",
    "from sklearn.datasets import make_classification\n",
    "from matplotlib import pyplot\n",
    "from numpy import where\n",
    "\n",
    "import pandas as pd\n",
    "import numpy as np\n",
    "import matplotlib.pyplot as plt\n",
    "%matplotlib inline\n",
    "from sklearn.linear_model import LinearRegression\n",
    "from sklearn.model_selection import train_test_split \n",
    "import xgboost as xgb\n",
    "from sklearn.model_selection import train_test_split \n",
    "from sklearn.metrics import accuracy_score\n",
    "from sklearn.feature_selection import SelectFromModel\n",
    "from sklearn.model_selection import cross_val_score\n",
    "from sklearn.feature_selection import SelectKBest\n",
    "from sklearn.feature_selection import f_classif\n",
    "from sklearn.model_selection import RepeatedStratifiedKFold\n",
    "from sklearn.model_selection import StratifiedKFold \n",
    "from sklearn.model_selection import GridSearchCV\n",
    "from sklearn.model_selection import RandomizedSearchCV\n",
    "from sklearn.metrics import mean_squared_error\n",
    "from sklearn.metrics import roc_auc_score\n",
    "from sklearn.metrics import plot_roc_curve\n",
    "from numpy import loadtxt\n",
    "from numpy import sort\n",
    "from numpy import mean\n",
    "from sklearn.metrics import cohen_kappa_score\n",
    "#from autoimpute.imputations import MultipleImputer\n",
    "from sklearn.experimental import enable_iterative_imputer\n",
    "from sklearn.impute import IterativeImputer\n",
    "\n",
    "\n",
    "from sklearn.impute import SimpleImputer \n",
    "from sklearn.metrics import plot_confusion_matrix\n",
    "from scipy.stats import pearsonr\n",
    "from scipy.stats import spearmanr\n",
    "from imblearn.over_sampling import SMOTE\n",
    "from sklearn.ensemble import IsolationForest\n",
    "from sklearn.metrics import mean_absolute_error\n",
    "from sklearn.model_selection import StratifiedKFold\n",
    "from sklearn.model_selection import cross_val_score\n",
    "from sklearn.model_selection import cross_validate\n",
    "from sklearn.model_selection import LeaveOneOut\n",
    "from collections import Counter\n",
    "from sklearn.metrics import f1_score \n",
    "from sklearn.metrics import precision_score\n",
    "from sklearn.metrics import recall_score\n",
    "from sklearn.metrics import plot_confusion_matrix\n",
    "from sklearn.metrics import precision_recall_fscore_support,classification_report,confusion_matrix, precision_recall_curve\n",
    "from sklearn.naive_bayes import GaussianNB\n",
    "from sklearn.linear_model import SGDClassifier\n",
    "from sklearn.ensemble import VotingClassifier\n",
    "from imblearn.over_sampling import RandomOverSampler\n",
    "from imblearn.under_sampling import RandomUnderSampler\n",
    "from sklearn.neighbors import LocalOutlierFactor"
   ]
  },
  {
   "cell_type": "markdown",
   "metadata": {},
   "source": [
    "### XG_SM+ VC"
   ]
  },
  {
   "cell_type": "code",
   "execution_count": 148,
   "metadata": {},
   "outputs": [
    {
     "data": {
      "text/html": [
       "<div>\n",
       "<style scoped>\n",
       "    .dataframe tbody tr th:only-of-type {\n",
       "        vertical-align: middle;\n",
       "    }\n",
       "\n",
       "    .dataframe tbody tr th {\n",
       "        vertical-align: top;\n",
       "    }\n",
       "\n",
       "    .dataframe thead th {\n",
       "        text-align: right;\n",
       "    }\n",
       "</style>\n",
       "<table border=\"1\" class=\"dataframe\">\n",
       "  <thead>\n",
       "    <tr style=\"text-align: right;\">\n",
       "      <th></th>\n",
       "      <th>age</th>\n",
       "      <th>sex</th>\n",
       "      <th>height</th>\n",
       "      <th>weight</th>\n",
       "      <th>qrs_duration</th>\n",
       "      <th>p-r_interval</th>\n",
       "      <th>q-t_interval</th>\n",
       "      <th>t_interval</th>\n",
       "      <th>p_interval</th>\n",
       "      <th>qrs</th>\n",
       "      <th>...</th>\n",
       "      <th>KY</th>\n",
       "      <th>KZ</th>\n",
       "      <th>LA</th>\n",
       "      <th>LB</th>\n",
       "      <th>LC</th>\n",
       "      <th>LD</th>\n",
       "      <th>LE</th>\n",
       "      <th>LF</th>\n",
       "      <th>LG</th>\n",
       "      <th>diagnosis</th>\n",
       "    </tr>\n",
       "  </thead>\n",
       "  <tbody>\n",
       "    <tr>\n",
       "      <th>0</th>\n",
       "      <td>75</td>\n",
       "      <td>0</td>\n",
       "      <td>190</td>\n",
       "      <td>80</td>\n",
       "      <td>91</td>\n",
       "      <td>193</td>\n",
       "      <td>371</td>\n",
       "      <td>174</td>\n",
       "      <td>121</td>\n",
       "      <td>-16</td>\n",
       "      <td>...</td>\n",
       "      <td>0.0</td>\n",
       "      <td>9.0</td>\n",
       "      <td>-0.9</td>\n",
       "      <td>0.0</td>\n",
       "      <td>0</td>\n",
       "      <td>0.9</td>\n",
       "      <td>2.9</td>\n",
       "      <td>23.3</td>\n",
       "      <td>49.4</td>\n",
       "      <td>8</td>\n",
       "    </tr>\n",
       "    <tr>\n",
       "      <th>1</th>\n",
       "      <td>56</td>\n",
       "      <td>1</td>\n",
       "      <td>165</td>\n",
       "      <td>64</td>\n",
       "      <td>81</td>\n",
       "      <td>174</td>\n",
       "      <td>401</td>\n",
       "      <td>149</td>\n",
       "      <td>39</td>\n",
       "      <td>25</td>\n",
       "      <td>...</td>\n",
       "      <td>0.0</td>\n",
       "      <td>8.5</td>\n",
       "      <td>0.0</td>\n",
       "      <td>0.0</td>\n",
       "      <td>0</td>\n",
       "      <td>0.2</td>\n",
       "      <td>2.1</td>\n",
       "      <td>20.4</td>\n",
       "      <td>38.8</td>\n",
       "      <td>6</td>\n",
       "    </tr>\n",
       "    <tr>\n",
       "      <th>2</th>\n",
       "      <td>54</td>\n",
       "      <td>0</td>\n",
       "      <td>172</td>\n",
       "      <td>95</td>\n",
       "      <td>138</td>\n",
       "      <td>163</td>\n",
       "      <td>386</td>\n",
       "      <td>185</td>\n",
       "      <td>102</td>\n",
       "      <td>96</td>\n",
       "      <td>...</td>\n",
       "      <td>0.0</td>\n",
       "      <td>9.5</td>\n",
       "      <td>-2.4</td>\n",
       "      <td>0.0</td>\n",
       "      <td>0</td>\n",
       "      <td>0.3</td>\n",
       "      <td>3.4</td>\n",
       "      <td>12.3</td>\n",
       "      <td>49.0</td>\n",
       "      <td>10</td>\n",
       "    </tr>\n",
       "    <tr>\n",
       "      <th>3</th>\n",
       "      <td>55</td>\n",
       "      <td>0</td>\n",
       "      <td>175</td>\n",
       "      <td>94</td>\n",
       "      <td>100</td>\n",
       "      <td>202</td>\n",
       "      <td>380</td>\n",
       "      <td>179</td>\n",
       "      <td>143</td>\n",
       "      <td>28</td>\n",
       "      <td>...</td>\n",
       "      <td>0.0</td>\n",
       "      <td>12.2</td>\n",
       "      <td>-2.2</td>\n",
       "      <td>0.0</td>\n",
       "      <td>0</td>\n",
       "      <td>0.4</td>\n",
       "      <td>2.6</td>\n",
       "      <td>34.6</td>\n",
       "      <td>61.6</td>\n",
       "      <td>1</td>\n",
       "    </tr>\n",
       "    <tr>\n",
       "      <th>4</th>\n",
       "      <td>75</td>\n",
       "      <td>0</td>\n",
       "      <td>190</td>\n",
       "      <td>80</td>\n",
       "      <td>88</td>\n",
       "      <td>181</td>\n",
       "      <td>360</td>\n",
       "      <td>177</td>\n",
       "      <td>103</td>\n",
       "      <td>-16</td>\n",
       "      <td>...</td>\n",
       "      <td>0.0</td>\n",
       "      <td>13.1</td>\n",
       "      <td>-3.6</td>\n",
       "      <td>0.0</td>\n",
       "      <td>0</td>\n",
       "      <td>-0.1</td>\n",
       "      <td>3.9</td>\n",
       "      <td>25.4</td>\n",
       "      <td>62.8</td>\n",
       "      <td>7</td>\n",
       "    </tr>\n",
       "  </tbody>\n",
       "</table>\n",
       "<p>5 rows × 280 columns</p>\n",
       "</div>"
      ],
      "text/plain": [
       "   age  sex  height  weight  qrs_duration  p-r_interval  q-t_interval  \\\n",
       "0   75    0     190      80            91           193           371   \n",
       "1   56    1     165      64            81           174           401   \n",
       "2   54    0     172      95           138           163           386   \n",
       "3   55    0     175      94           100           202           380   \n",
       "4   75    0     190      80            88           181           360   \n",
       "\n",
       "   t_interval  p_interval  qrs  ...   KY    KZ   LA   LB LC   LD   LE    LF  \\\n",
       "0         174         121  -16  ...  0.0   9.0 -0.9  0.0  0  0.9  2.9  23.3   \n",
       "1         149          39   25  ...  0.0   8.5  0.0  0.0  0  0.2  2.1  20.4   \n",
       "2         185         102   96  ...  0.0   9.5 -2.4  0.0  0  0.3  3.4  12.3   \n",
       "3         179         143   28  ...  0.0  12.2 -2.2  0.0  0  0.4  2.6  34.6   \n",
       "4         177         103  -16  ...  0.0  13.1 -3.6  0.0  0 -0.1  3.9  25.4   \n",
       "\n",
       "     LG  diagnosis  \n",
       "0  49.4          8  \n",
       "1  38.8          6  \n",
       "2  49.0         10  \n",
       "3  61.6          1  \n",
       "4  62.8          7  \n",
       "\n",
       "[5 rows x 280 columns]"
      ]
     },
     "execution_count": 148,
     "metadata": {},
     "output_type": "execute_result"
    }
   ],
   "source": [
    "df = pd.read_csv('data_arrhythmia.csv',  sep = ';')\n",
    "df.head()"
   ]
  },
  {
   "cell_type": "code",
   "execution_count": 223,
   "metadata": {},
   "outputs": [],
   "source": [
    "# specific to UCI Arrythmia Dataset\n",
    "class PreProcessing:\n",
    "    def __init__(self, df):\n",
    "        self.df = df\n",
    "        \n",
    "    def cleaning(self):\n",
    "        new_df = self.df.copy()\n",
    "        df_data = new_df.copy()\n",
    "        # Replace ? by NaN\n",
    "        df_data = df_data.replace('?', np.NaN)\n",
    "        # Remove unwanted columns\n",
    "        # Deleting the attributes having more than 40% missing values.\n",
    "        thresh = len(df_data) * 0.4\n",
    "        df_data.dropna(thresh = thresh, axis = 1, inplace = True)\n",
    "        imp = SimpleImputer(missing_values=np.nan, strategy=\"median\")\n",
    "        new_df = pd.DataFrame(imp.fit_transform(df_data), columns=df_data.columns)\n",
    "        self.df = new_df\n",
    "        return self.df\n",
    "    \n",
    "    def getTrainTestSet(self):\n",
    "        new_df = self.cleaning()\n",
    "        X = new_df.iloc[:,:-1]\n",
    "        y = new_df.iloc[:,-1]\n",
    "        # Implementation for Random forest\n",
    "        rfc = SelectFromModel(RandomForestClassifier(n_estimators = 20, random_state=0, n_jobs = -1))\n",
    "        rfc.fit(X, y)\n",
    "\n",
    "        rfc_comp = X.columns[(rfc.get_support())]\n",
    "        print(\"Components from Feature Selection using Random Forest Classifier - \",len(rfc_comp))\n",
    "        cols = list(X.columns)\n",
    "        temp = pd.Series(rfc.get_support(),index = cols)\n",
    "        # reduced Feature dataset based on randomforest classifier\n",
    "        X = X.loc[:,temp[temp==True].index]\n",
    "        X_train, X_test, Y_train, Y_test = train_test_split(X, y, test_size=0.2, shuffle = True, stratify = y, random_state=43)\n",
    "        X_train.loc[:,'diagnosis'] = Y_train\n",
    "        X_test.loc[:,'diagnosis'] = Y_test\n",
    "        self.df = X_train\n",
    "        return self.df, X_test\n",
    "\n",
    "\n",
    "    \n",
    "    # remving outliers using Isolation Forest\n",
    "    def OutlierRemoval(self):\n",
    "        new_df, X_test_df = self.getTrainTestSet()\n",
    "        new_df.loc[(new_df['diagnosis'] == 1), 'Disease'] = 0 # healthy individual\n",
    "        new_df.loc[(new_df['diagnosis'] != 1), 'Disease'] = 1 \n",
    "        new_df_healthy = new_df[new_df['Disease'] == 0]\n",
    "        new_df_disease = new_df[new_df['Disease'] == 1]\n",
    "        for_outlier_x = new_df_healthy.loc[:, ~new_df_healthy.columns.isin(['Disease'])]\n",
    "        for_outlier_y = new_df_healthy['Disease']\n",
    "        clf = LocalOutlierFactor(n_neighbors=2)\n",
    "        for_outlier_y_pred = clf.fit_predict(for_outlier_x)\n",
    "        for_outlier_x['outlier_score'] = for_outlier_y_pred\n",
    "        for_outlier_x['Disease'] = for_outlier_y\n",
    "        without_outliers = for_outlier_x[for_outlier_x['outlier_score'] == 1]\n",
    "        without_outliers = without_outliers.loc[:,without_outliers.columns != 'outlier_score']\n",
    "       \n",
    "        final_df = pd.concat([without_outliers, new_df_disease])\n",
    "        final_df.loc[(final_df['diagnosis'] == 1), 'Disease'] = 0 # healthy individual\n",
    "        final_df.loc[(final_df['diagnosis'] != 1), 'Disease'] = 1 # unhealthy individual\n",
    "        self.df = final_df\n",
    "        return self.df, X_test_df\n",
    "    \n",
    "    def DataAugmentation(self):\n",
    "        new_df, X_test_df = self.getTrainTestSet()\n",
    "        new_df.loc[(new_df['diagnosis'] == 1), 'Disease'] = 0 # healthy individual\n",
    "        new_df.loc[(new_df['diagnosis'] != 1), 'Disease'] = 1 \n",
    "        healthy_df = new_df[new_df['Disease'] == 0]\n",
    "        new_df.loc[(new_df['diagnosis'] == 1), 'Disease'] = 0 # healthy individual\n",
    "        new_df.loc[(new_df['diagnosis'] != 1), 'Disease'] = 1 \n",
    "        healthy_df = new_df[new_df['Disease'] == 0]\n",
    "\n",
    "        # AF data first\n",
    "        AF_data = new_df[(new_df['diagnosis'] == 14) | (new_df['diagnosis'] == 1)]\n",
    "\n",
    "        af_smote_x = AF_data.loc[:,AF_data.columns != 'Disease']\n",
    "        af_smote_y = AF_data['Disease']\n",
    "        oversample_af = SMOTE(sampling_strategy=0.9,k_neighbors=2)\n",
    "        af_smote_x, af_smote_y = oversample_af.fit_resample(af_smote_x, af_smote_y)\n",
    "        af_smote_x['Disease'] = af_smote_y\n",
    "        AF_only = af_smote_x[af_smote_x['Disease'] ==1] \n",
    "        AF_only.loc[(AF_only['Disease'] == 1), 'diagnosis'] = 14\n",
    "\n",
    "        # Then Arr data\n",
    "        Arr_data = new_df[(new_df['diagnosis'].isin([1,7,8]))]\n",
    "\n",
    "        arr_smote_x = Arr_data.loc[:,Arr_data.columns != 'Disease']\n",
    "        arr_smote_y = Arr_data['Disease']\n",
    "        oversample_arr = SMOTE(sampling_strategy=0.5)\n",
    "        arr_smote_x, arr_smote_y = oversample_af.fit_resample(arr_smote_x, arr_smote_y)\n",
    "        arr_smote_x['Disease'] = arr_smote_y\n",
    "        Arr_only = arr_smote_x[arr_smote_x['Disease'] ==1] \n",
    "        Arr_only.loc[(Arr_only['Disease'] == 1), 'diagnosis'] = 7\n",
    "        unhealthy_no_AF_Arr = new_df[~(new_df['diagnosis'].isin([1,7,8,14]))]\n",
    "        with_smote_df = pd.concat([Arr_only, AF_only, unhealthy_no_AF_Arr, healthy_df])\n",
    "        \n",
    "                \n",
    "        with_smote_df.loc[(with_smote_df['diagnosis'] == 1), 'Disease'] = 0 # healthy individual\n",
    "        with_smote_df.loc[(with_smote_df['diagnosis'] != 1), 'Disease'] = 1 \n",
    "        \n",
    "        self.df = with_smote_df\n",
    "\n",
    "        return self.df, X_test_df\n",
    "    def finalCleanedDf(self):\n",
    "        new_df, X_test_df = self.DataAugmentation()\n",
    "        new_df.loc[(new_df['diagnosis'] == 1), 'Disease'] = 0 # healthy individual\n",
    "        new_df.loc[(new_df['diagnosis'] != 1), 'Disease'] = 1 # unhealthy individual\n",
    "        X_test_df.loc[(X_test_df['diagnosis'] == 1), 'Disease'] = 0 # healthy individual\n",
    "        X_test_df.loc[(X_test_df['diagnosis'] != 1), 'Disease'] = 1 # unhealthy individual\n",
    "        self.df = new_df\n",
    "        return self.df, X_test_df"
   ]
  },
  {
   "cell_type": "code",
   "execution_count": 224,
   "metadata": {},
   "outputs": [
    {
     "name": "stdout",
     "output_type": "stream",
     "text": [
      "Components from Feature Selection using Random Forest Classifier -  105\n"
     ]
    },
    {
     "name": "stderr",
     "output_type": "stream",
     "text": [
      "C:\\Users\\user\\anaconda3\\lib\\site-packages\\pandas\\core\\indexing.py:1596: SettingWithCopyWarning: \n",
      "A value is trying to be set on a copy of a slice from a DataFrame.\n",
      "Try using .loc[row_indexer,col_indexer] = value instead\n",
      "\n",
      "See the caveats in the documentation: https://pandas.pydata.org/pandas-docs/stable/user_guide/indexing.html#returning-a-view-versus-a-copy\n",
      "  self.obj[key] = _infer_fill_value(value)\n",
      "C:\\Users\\user\\anaconda3\\lib\\site-packages\\pandas\\core\\indexing.py:1783: SettingWithCopyWarning: \n",
      "A value is trying to be set on a copy of a slice from a DataFrame.\n",
      "Try using .loc[row_indexer,col_indexer] = value instead\n",
      "\n",
      "See the caveats in the documentation: https://pandas.pydata.org/pandas-docs/stable/user_guide/indexing.html#returning-a-view-versus-a-copy\n",
      "  self.obj[item_labels[indexer[info_axis]]] = value\n",
      "C:\\Users\\user\\anaconda3\\lib\\site-packages\\pandas\\core\\indexing.py:670: SettingWithCopyWarning: \n",
      "A value is trying to be set on a copy of a slice from a DataFrame\n",
      "\n",
      "See the caveats in the documentation: https://pandas.pydata.org/pandas-docs/stable/user_guide/indexing.html#returning-a-view-versus-a-copy\n",
      "  iloc._setitem_with_indexer(indexer, value)\n",
      "<ipython-input-223-7555666975f8>:83: SettingWithCopyWarning: \n",
      "A value is trying to be set on a copy of a slice from a DataFrame\n",
      "\n",
      "See the caveats in the documentation: https://pandas.pydata.org/pandas-docs/stable/user_guide/indexing.html#returning-a-view-versus-a-copy\n",
      "  AF_only.loc[(AF_only['Disease'] == 1), 'diagnosis'] = 14\n",
      "C:\\Users\\user\\anaconda3\\lib\\site-packages\\pandas\\core\\indexing.py:670: SettingWithCopyWarning: \n",
      "A value is trying to be set on a copy of a slice from a DataFrame\n",
      "\n",
      "See the caveats in the documentation: https://pandas.pydata.org/pandas-docs/stable/user_guide/indexing.html#returning-a-view-versus-a-copy\n",
      "  iloc._setitem_with_indexer(indexer, value)\n",
      "<ipython-input-223-7555666975f8>:94: SettingWithCopyWarning: \n",
      "A value is trying to be set on a copy of a slice from a DataFrame\n",
      "\n",
      "See the caveats in the documentation: https://pandas.pydata.org/pandas-docs/stable/user_guide/indexing.html#returning-a-view-versus-a-copy\n",
      "  Arr_only.loc[(Arr_only['Disease'] == 1), 'diagnosis'] = 7\n"
     ]
    }
   ],
   "source": [
    "instance = PreProcessing(df)\n",
    "train_df, test_df= instance.finalCleanedDf()"
   ]
  },
  {
   "cell_type": "markdown",
   "metadata": {},
   "source": [
    "### Stage1"
   ]
  },
  {
   "cell_type": "code",
   "execution_count": 225,
   "metadata": {},
   "outputs": [],
   "source": [
    "X_train = train_df.drop(columns=['diagnosis', 'Disease'])\n",
    "y_train = train_df['Disease']\n",
    "\n",
    "\n",
    "X_test = test_df.drop(columns=['diagnosis','Disease'])\n",
    "y_test = test_df['Disease']"
   ]
  },
  {
   "cell_type": "code",
   "execution_count": 226,
   "metadata": {},
   "outputs": [],
   "source": [
    "estimators = []\n",
    "\n",
    "model1 = xgb.XGBClassifier(objective='binary:logistic', subsample=0.75,  \n",
    "                          n_estimators=100, colsample_bytree = 0.99, learning_rate = 1,\n",
    "                max_depth = 10,  gamma=5, alpha = 1, seed=123, use_label_encoder=False, eval_metric='error')\n",
    "\n",
    "estimators.append(('XGBoost', model1))\n",
    "# estimators.append(('bayes', GaussianNB()))\n",
    "# estimators.append(('GradientDescent' , SGDClassifier(loss=\"modified_huber\", penalty=\"elasticnet\", max_iter=500)))\n",
    "ensemble = VotingClassifier(estimators, voting = 'hard')"
   ]
  },
  {
   "cell_type": "code",
   "execution_count": 227,
   "metadata": {},
   "outputs": [],
   "source": [
    "ensemble.fit(X_train, y_train)\n",
    "y_pred = ensemble.predict(X_test)"
   ]
  },
  {
   "cell_type": "code",
   "execution_count": 228,
   "metadata": {},
   "outputs": [],
   "source": [
    "# # calculate score\n",
    "# score = f1_score(y_test, y_pred)\n",
    "# print('F1 Score: %.3f' % score)\n",
    "\n",
    "# precision = precision_score(y_test, y_pred)\n",
    "# print('Precision: %.3f' % precision)\n",
    "\n",
    "\n",
    "\n",
    "# recall = recall_score(y_test, y_pred)\n",
    "# print('Recall: %.3f' % recall)"
   ]
  },
  {
   "cell_type": "code",
   "execution_count": 229,
   "metadata": {},
   "outputs": [
    {
     "data": {
      "text/plain": [
       "<sklearn.metrics._plot.confusion_matrix.ConfusionMatrixDisplay at 0x288032b65b0>"
      ]
     },
     "execution_count": 229,
     "metadata": {},
     "output_type": "execute_result"
    },
    {
     "data": {
      "image/png": "[encoded data removed]",
      "text/plain": [
       "<Figure size 432x288 with 2 Axes>"
      ]
     },
     "metadata": {
      "needs_background": "light"
     },
     "output_type": "display_data"
    }
   ],
   "source": [
    "plot_confusion_matrix(ensemble, X_test, y_test) "
   ]
  },
  {
   "cell_type": "code",
   "execution_count": 230,
   "metadata": {},
   "outputs": [
    {
     "name": "stdout",
     "output_type": "stream",
     "text": [
      "              precision    recall  f1-score   support\n",
      "\n",
      "         0.0       0.77      0.69      0.73        49\n",
      "         1.0       0.68      0.76      0.72        42\n",
      "\n",
      "    accuracy                           0.73        91\n",
      "   macro avg       0.73      0.73      0.73        91\n",
      "weighted avg       0.73      0.73      0.73        91\n",
      "\n"
     ]
    }
   ],
   "source": [
    "print(classification_report(y_test, y_pred))"
   ]
  },
  {
   "cell_type": "code",
   "execution_count": 231,
   "metadata": {},
   "outputs": [],
   "source": [
    "class SecondStageProcessing:\n",
    "    def __init__(self, traindf, testdf):\n",
    "        self.traindf = traindf\n",
    "        self.testdf = testdf\n",
    "        \n",
    "    def prcoessing(self):\n",
    "        new_df = self.traindf.copy()\n",
    "        test_df = self.testdf.copy()\n",
    "        X_train_2ndStage = new_df.copy()\n",
    "        X_train_2ndStage = X_train_2ndStage[X_train_2ndStage['Disease']==1]\n",
    "        X_train_2ndStage = X_train_2ndStage.drop(columns=['Disease'])\n",
    "        X_test_2ndStage = test_df.copy()\n",
    "        X_test_2ndStage = X_test_2ndStage[X_test_2ndStage['Disease']==1]\n",
    "        X_test_2ndStage = X_test_2ndStage.drop(columns=['Disease'])\n",
    "        self.traindf = X_train_2ndStage\n",
    "        self.testdf = X_test_2ndStage\n",
    "        return self.traindf, self.testdf\n",
    "    \n",
    "    # remving outliers using Isolation Forest\n",
    "    def OutlierRemoval(self):\n",
    "        train_df, X_test_df = self.prcoessing()\n",
    "        data = train_df.to_numpy()\n",
    "        X , y = data[:, :-1], data[:, -1]\n",
    "\n",
    "        iso = IsolationForest(contamination=0.1)\n",
    "        yhat = iso.fit_predict(X)\n",
    "        # select all rows that are not outliers\n",
    "        mask = yhat != -1\n",
    "        afterX, aftery = X[mask, :], y[mask]\n",
    "        unhealthy_df_no_outliers = pd.DataFrame(afterX,  columns = train_df.drop(columns=['diagnosis']).columns)\n",
    "        unhealthy_df_no_outliers['diagnosis'] = aftery\n",
    "        self.traindf = unhealthy_df_no_outliers\n",
    "        return self.traindf, self.testdf \n",
    "\n",
    "    def DataAugmentation(self):\n",
    "        train_df, X_test_df = self.OutlierRemoval()\n",
    "        arr_x = train_df.loc[:,train_df.columns != 'Arr']\n",
    "        arr_y = train_df['Arr']\n",
    "        AF_data = train_df.drop(columns=['Arr'], axis=1) # data with only the AF label\n",
    "        Arr_data = train_df.drop(columns=['AF'], axis=1) # data with only the Arr label\n",
    "        arr_smote_x = Arr_data.loc[:,Arr_data.columns != 'Arr']\n",
    "        arr_smote_y = Arr_data['Arr']\n",
    "\n",
    "        oversample_arr = SMOTE(sampling_strategy='auto')\n",
    "        arr_smote_x, arr_smote_y = oversample_arr.fit_resample(arr_smote_x, arr_smote_y)\n",
    "        af_smote_x = AF_data.loc[:,AF_data.columns != 'AF']\n",
    "        af_smote_y = AF_data['AF']\n",
    "\n",
    "        oversample_af = SMOTE(sampling_strategy='auto')\n",
    "        af_smote_x, af_smote_y = oversample_af.fit_resample(af_smote_x, af_smote_y)\n",
    "        arr_smote_x['Arr'] = arr_smote_y\n",
    "        af_smote_x['AF'] = af_smote_y\n",
    "        AF_only = af_smote_x[af_smote_x['AF'] == 1] # data with only positive labels of AF\n",
    "        Arr_only = arr_smote_x[arr_smote_x['Arr'] ==1] # data with only positive labels of Arr\n",
    "        with_smote_df = pd.concat([Arr_only,AF_only])\n",
    "        \n",
    "        with_smote_df.loc[(with_smote_df['Arr'] == 1) & (with_smote_df['AF'] == 0), 'label'] = 1\n",
    "        with_smote_df.loc[(with_smote_df['Arr'] == 0) & (with_smote_df['AF'] == 1), 'label'] = 0\n",
    "        self.df = with_smote_df\n",
    "        return self.df, X_test_df\n",
    "\n",
    "       \n",
    "    def finalCleanedDf(self):\n",
    "        new_df, X_test_df = self.prcoessing()\n",
    "        self.df = new_df\n",
    "        return self.df, X_test_df"
   ]
  },
  {
   "cell_type": "code",
   "execution_count": 232,
   "metadata": {},
   "outputs": [],
   "source": [
    "instance = SecondStageProcessing(train_df, test_df)\n",
    "train2_df, test2_df= instance.finalCleanedDf()"
   ]
  },
  {
   "cell_type": "code",
   "execution_count": 233,
   "metadata": {},
   "outputs": [],
   "source": [
    "X2_train = train2_df.drop(columns=['diagnosis'])\n",
    "y2_train = train2_df['diagnosis']\n",
    "\n",
    "X_test = test2_df.drop(columns=['diagnosis'])\n",
    "y_test = test2_df['diagnosis']\n"
   ]
  },
  {
   "cell_type": "code",
   "execution_count": 265,
   "metadata": {},
   "outputs": [],
   "source": [
    "\n",
    "estimators = []\n",
    "\n",
    "model1 = xgb.XGBClassifier(objective='multi:softmax', subsample=0.75,  \n",
    "                          n_estimators=100, colsample_bytree = 0.99, learning_rate = 1,\n",
    "                max_depth = 10,  gamma=5, alpha = 1, seed=123, use_label_encoder=False, eval_metric='error')\n",
    "\n",
    "estimators.append(('XGBoost', model1))\n",
    "estimators.append(('bayes', GaussianNB()))\n",
    "estimators.append(('GradientDescent' , SGDClassifier(loss=\"modified_huber\", penalty=\"elasticnet\", max_iter=500)))\n",
    "ensemble = VotingClassifier(estimators, voting = 'hard')\n"
   ]
  },
  {
   "cell_type": "code",
   "execution_count": 266,
   "metadata": {},
   "outputs": [],
   "source": [
    "ensemble.fit(X2_train, y2_train)\n",
    "y_pred_2 = ensemble.predict(X_test)"
   ]
  },
  {
   "cell_type": "code",
   "execution_count": 267,
   "metadata": {},
   "outputs": [
    {
     "data": {
      "text/plain": [
       "10.0    10\n",
       "2.0      9\n",
       "6.0      5\n",
       "16.0     4\n",
       "3.0      3\n",
       "5.0      3\n",
       "4.0      3\n",
       "9.0      2\n",
       "7.0      1\n",
       "15.0     1\n",
       "14.0     1\n",
       "Name: diagnosis, dtype: int64"
      ]
     },
     "execution_count": 267,
     "metadata": {},
     "output_type": "execute_result"
    }
   ],
   "source": [
    "y_test.value_counts()"
   ]
  },
  {
   "cell_type": "code",
   "execution_count": 268,
   "metadata": {},
   "outputs": [
    {
     "data": {
      "text/plain": [
       "Counter({2.0: 11,\n",
       "         4.0: 4,\n",
       "         6.0: 6,\n",
       "         10.0: 10,\n",
       "         9.0: 2,\n",
       "         16.0: 2,\n",
       "         14.0: 1,\n",
       "         3.0: 3,\n",
       "         15.0: 1,\n",
       "         5.0: 2})"
      ]
     },
     "execution_count": 268,
     "metadata": {},
     "output_type": "execute_result"
    }
   ],
   "source": [
    "Counter(y_pred_2)"
   ]
  },
  {
   "cell_type": "code",
   "execution_count": 269,
   "metadata": {},
   "outputs": [
    {
     "name": "stdout",
     "output_type": "stream",
     "text": [
      "f1_score: 0.720\n",
      "Precision: 0.722\n",
      "Recall: 0.734\n"
     ]
    },
    {
     "name": "stderr",
     "output_type": "stream",
     "text": [
      "C:\\Users\\user\\anaconda3\\lib\\site-packages\\sklearn\\metrics\\_classification.py:1248: UndefinedMetricWarning: Precision is ill-defined and being set to 0.0 in labels with no predicted samples. Use `zero_division` parameter to control this behavior.\n",
      "  _warn_prf(average, modifier, msg_start, len(result))\n"
     ]
    }
   ],
   "source": [
    "from sklearn.metrics import f1_score\n",
    "f1_score = f1_score(y_test, y_pred_2,average='macro')\n",
    "print('f1_score: %.3f' % f1_score)\n",
    "from sklearn.metrics import precision_score\n",
    "precision = precision_score(y_test, y_pred_2,average='macro')\n",
    "print('Precision: %.3f' % precision)\n",
    "\n",
    "from sklearn.metrics import recall_score\n",
    "recall = recall_score(y_test, y_pred_2, average='macro')\n",
    "print('Recall: %.3f' % recall)"
   ]
  },
  {
   "cell_type": "code",
   "execution_count": 270,
   "metadata": {},
   "outputs": [
    {
     "data": {
      "text/plain": [
       "(616, 105)"
      ]
     },
     "execution_count": 270,
     "metadata": {},
     "output_type": "execute_result"
    }
   ],
   "source": [
    "X_train.shape"
   ]
  },
  {
   "cell_type": "code",
   "execution_count": 271,
   "metadata": {},
   "outputs": [
    {
     "data": {
      "text/plain": [
       "<sklearn.metrics._plot.confusion_matrix.ConfusionMatrixDisplay at 0x28807429f40>"
      ]
     },
     "execution_count": 271,
     "metadata": {},
     "output_type": "execute_result"
    },
    {
     "data": {
      "image/png": "[encoded data removed]",
      "text/plain": [
       "<Figure size 432x288 with 2 Axes>"
      ]
     },
     "metadata": {
      "needs_background": "light"
     },
     "output_type": "display_data"
    }
   ],
   "source": [
    "plot_confusion_matrix(ensemble, X_test, y_test) "
   ]
  },
  {
   "cell_type": "code",
   "execution_count": null,
   "metadata": {},
   "outputs": [],
   "source": [
    "print(classification_report(y_test, y_pred_2))"
   ]
  },
  {
   "cell_type": "code",
   "execution_count": null,
   "metadata": {},
   "outputs": [],
   "source": []
  },
  {
   "cell_type": "code",
   "execution_count": null,
   "metadata": {},
   "outputs": [],
   "source": []
  }
 ],
 "metadata": {
  "kernelspec": {
   "display_name": "Python 3",
   "language": "python",
   "name": "python3"
  },
  "language_info": {
   "codemirror_mode": {
    "name": "ipython",
    "version": 3
   },
   "file_extension": ".py",
   "mimetype": "text/x-python",
   "name": "python",
   "nbconvert_exporter": "python",
   "pygments_lexer": "ipython3",
   "version": "3.8.5"
  }
 },
 "nbformat": 4,
 "nbformat_minor": 4
}
