{
 "cells": [
  {
   "cell_type": "markdown",
   "metadata": {},
   "source": [
    "## XG + LOF+ SM, one-stage"
   ]
  },
  {
   "cell_type": "code",
   "execution_count": 1,
   "metadata": {
    "jupyter": {
     "source_hidden": true
    }
   },
   "outputs": [],
   "source": [
    "from collections import Counter\n",
    "from sklearn.datasets import make_classification\n",
    "from matplotlib import pyplot\n",
    "from numpy import where\n",
    "\n",
    "import pandas as pd\n",
    "import numpy as np\n",
    "import matplotlib.pyplot as plt\n",
    "%matplotlib inline\n",
    "from sklearn.linear_model import LinearRegression\n",
    "from sklearn.model_selection import train_test_split \n",
    "import xgboost as xgb\n",
    "from sklearn.model_selection import train_test_split \n",
    "from sklearn.metrics import accuracy_score\n",
    "from sklearn.feature_selection import SelectFromModel\n",
    "from sklearn.model_selection import cross_val_score\n",
    "from sklearn.feature_selection import SelectKBest\n",
    "from sklearn.feature_selection import f_classif\n",
    "from sklearn.model_selection import RepeatedStratifiedKFold\n",
    "from sklearn.model_selection import StratifiedKFold \n",
    "from sklearn.model_selection import GridSearchCV\n",
    "from sklearn.model_selection import RandomizedSearchCV\n",
    "from sklearn.metrics import mean_squared_error\n",
    "from sklearn.metrics import roc_auc_score\n",
    "from sklearn.metrics import plot_roc_curve\n",
    "from numpy import loadtxt\n",
    "from numpy import sort\n",
    "from numpy import mean\n",
    "from sklearn.metrics import cohen_kappa_score\n",
    "#from autoimpute.imputations import MultipleImputer\n",
    "from sklearn.experimental import enable_iterative_imputer\n",
    "from sklearn.impute import IterativeImputer\n",
    "\n",
    "\n",
    "from sklearn.impute import SimpleImputer \n",
    "from sklearn.metrics import plot_confusion_matrix\n",
    "from scipy.stats import pearsonr\n",
    "from scipy.stats import spearmanr\n",
    "from imblearn.over_sampling import SMOTE\n",
    "from sklearn.ensemble import IsolationForest\n",
    "from sklearn.metrics import mean_absolute_error\n",
    "from sklearn.model_selection import StratifiedKFold\n",
    "from sklearn.model_selection import cross_val_score\n",
    "from sklearn.model_selection import cross_validate\n",
    "from sklearn.model_selection import LeaveOneOut\n",
    "from collections import Counter\n",
    "from sklearn.metrics import f1_score \n",
    "from sklearn.metrics import precision_score\n",
    "from sklearn.metrics import recall_score\n",
    "from sklearn.metrics import plot_confusion_matrix\n",
    "from sklearn.metrics import precision_recall_fscore_support,classification_report,confusion_matrix, precision_recall_curve\n",
    "from sklearn.naive_bayes import GaussianNB\n",
    "from sklearn.linear_model import SGDClassifier\n",
    "from sklearn.ensemble import VotingClassifier\n",
    "from imblearn.over_sampling import RandomOverSampler\n",
    "from imblearn.under_sampling import RandomUnderSampler\n",
    "from sklearn.neighbors import LocalOutlierFactor"
   ]
  },
  {
   "cell_type": "code",
   "execution_count": 2,
   "metadata": {},
   "outputs": [],
   "source": [
    "df = pd.read_excel(\"Updated_UKBioBank.xlsx\")\n",
    "## Data Pre-processing"
   ]
  },
  {
   "cell_type": "code",
   "execution_count": 3,
   "metadata": {},
   "outputs": [],
   "source": [
    "# specific to UK BioBank dataset\n",
    "class PreProcessing:\n",
    "    def __init__(self, df):\n",
    "        self.df = df\n",
    "        \n",
    "    def cleaning(self):\n",
    "        new_df = self.df.copy()\n",
    "        new_df = new_df.iloc[:, new_df.columns != 'QTrest']\n",
    "        new_df = new_df[~((new_df['AF']==1) & (new_df['Arr']==1))] # remove overlaps\n",
    "        imp = SimpleImputer(missing_values=np.nan, strategy=\"most_frequent\")\n",
    "        new_df = pd.DataFrame(imp.fit_transform(new_df), columns=new_df.columns)\n",
    "        new_df.loc[(new_df['Arr'] == 0) & (new_df['AF'] == 0), 'Category'] = 0\n",
    "        new_df.loc[(new_df['Arr'] == 0) & (new_df['AF'] == 1), 'Category'] = 1\n",
    "        new_df.loc[(new_df['Arr'] == 1) & (new_df['AF'] == 0), 'Category'] = 2\n",
    "        self.df = new_df\n",
    "        return self.df\n",
    "    \n",
    "    def getTrainTestSet(self):\n",
    "        new_df = self.cleaning()\n",
    "        choosing_samples_AF = new_df[new_df['AF'] == 1]\n",
    "        choosing_samples_Arr =  new_df[new_df['Arr'] == 1]\n",
    "        healthy_samples = new_df[new_df['Category'] == 0]\n",
    "        \n",
    "        AF_x = choosing_samples_AF.loc[:,choosing_samples_AF.columns != 'Category']\n",
    "        AF_y = choosing_samples_AF['Category']\n",
    "        \n",
    "        Arr_x = choosing_samples_Arr.loc[:,choosing_samples_Arr.columns != 'Category']\n",
    "        Arr_y = choosing_samples_Arr['Category']\n",
    "        \n",
    "        healthy_x = healthy_samples.loc[:,healthy_samples.columns != 'Category']\n",
    "        healthy_y = healthy_samples['Category']\n",
    "        \n",
    "        \n",
    "        AF_X_train, AF_X_test, AF_y_train, AF_y_test = train_test_split(AF_x, AF_y, test_size=0.1)\n",
    "        Arr_X_train, Arr_X_test, Arr_y_train, Arr_y_test = train_test_split(Arr_x, Arr_y, test_size=0.1)\n",
    "        healthy_X_train, healthy_X_test, healthy_y_train, healthy_y_test = train_test_split(healthy_x, healthy_y, test_size=0.01)\n",
    "        \n",
    "        X_test_df = pd.concat([AF_X_test,Arr_X_test,healthy_X_test])\n",
    "        y_test_df = pd.concat([AF_y_test,Arr_y_test,healthy_y_test])\n",
    "        X_train_df = pd.concat([AF_X_train,Arr_X_train,healthy_X_train])\n",
    "        y_train_df = pd.concat([AF_y_train,Arr_y_train,healthy_y_train])\n",
    "        X_train_df['Category'] = y_train_df\n",
    "        X_test_df['Category'] = y_test_df\n",
    "        self.df = X_train_df\n",
    "        return self.df, X_test_df\n",
    "    \n",
    "    # remving outliers using Isolation Forest\n",
    "    def OutlierRemoval(self):\n",
    "        new_df, X_test_df = self.getTrainTestSet()\n",
    "        new_df_healthy = new_df[new_df['Category'] == 0]\n",
    "        new_df_disease = new_df[(new_df['Category'] == 1)|(new_df['Category'] == 2)]\n",
    "        for_outlier_x = new_df_healthy.loc[:, ~new_df_healthy.columns.isin(['eid','AF', 'Arr', 'Category'])]\n",
    "        for_outlier_y = new_df_healthy['Category']\n",
    "        clf = LocalOutlierFactor(n_neighbors=2)\n",
    "        for_outlier_y_pred = clf.fit_predict(for_outlier_x)\n",
    "        for_outlier_x['outlier_score'] = for_outlier_y_pred\n",
    "        for_outlier_x['Category'] = for_outlier_y\n",
    "        for_outlier_x['eid'] = new_df_healthy['eid']\n",
    "        for_outlier_x['Arr'] = new_df_healthy['Arr']\n",
    "        for_outlier_x['AF'] = new_df_healthy['AF']\n",
    "        without_outliers = for_outlier_x[for_outlier_x['outlier_score'] == 1]\n",
    "        without_outliers = without_outliers.loc[:,without_outliers.columns != 'outlier_score']\n",
    "        df1 = new_df_healthy.copy()\n",
    "        df1 = new_df_healthy.set_index('eid')\n",
    "        df2 = without_outliers.copy()\n",
    "        df2 = without_outliers.set_index('eid')\n",
    "        final_healthy_df = pd.merge(df1, df2, how='inner')\n",
    "        final_healthy_df['eid'] = df2.index\n",
    "        final_df = pd.concat([final_healthy_df, new_df_disease])\n",
    "        self.df = final_df\n",
    "        return self.df, X_test_df\n",
    "    \n",
    "    def DataAugmentation(self):\n",
    "        new_df, X_test_df = self.OutlierRemoval()\n",
    "        healthy_df = new_df[new_df['Category'] == 0]\n",
    "        AF_data = new_df.drop(columns=['Arr'], axis=1) # data with only the AF label\n",
    "        Arr_data = new_df.drop(columns=['AF'], axis=1) # data with only the Arr label\n",
    "        arr_smote_x = Arr_data.loc[:,Arr_data.columns != 'Arr']\n",
    "        arr_smote_y = Arr_data['Arr']\n",
    "\n",
    "        oversample_arr = SMOTE(sampling_strategy=0.5)\n",
    "        arr_smote_x, arr_smote_y = oversample_arr.fit_resample(arr_smote_x, arr_smote_y)\n",
    "        af_smote_x = AF_data.loc[:,AF_data.columns != 'AF']\n",
    "        af_smote_y = AF_data['AF']\n",
    "\n",
    "        oversample_af = SMOTE(sampling_strategy=0.5)\n",
    "        af_smote_x, af_smote_y = oversample_af.fit_resample(af_smote_x, af_smote_y)\n",
    "        arr_smote_x['Arr'] = arr_smote_y\n",
    "        af_smote_x['AF'] = af_smote_y\n",
    "        AF_only = af_smote_x[af_smote_x['AF'] == 1] # data with only positive labels of AF\n",
    "        Arr_only = arr_smote_x[arr_smote_x['Arr'] ==1] # data with only positive labels of Arr\n",
    "        with_smote_df = pd.concat([Arr_only,AF_only,healthy_df])\n",
    "        \n",
    "        with_smote_df.loc[(with_smote_df['Arr'] == 0) & (with_smote_df['AF'] == 0), 'Category'] = 0\n",
    "        with_smote_df.loc[(with_smote_df['Arr'] == 0) & (with_smote_df['AF'] == 1), 'Category'] = 1\n",
    "        with_smote_df.loc[(with_smote_df['Arr'] == 1) & (with_smote_df['AF'] == 0), 'Category'] = 2\n",
    "        self.df = with_smote_df\n",
    "        return self.df, X_test_df\n",
    "    def finalCleanedDf(self):\n",
    "        new_df, X_test_df = self.DataAugmentation()\n",
    "        new_df.loc[(new_df['Arr'] == 1) & (new_df['Category'] == 2), 'AF'] = 0\n",
    "        new_df.loc[(new_df['AF'] == 1) & (new_df['Category'] == 1), 'Arr'] = 0\n",
    "        self.df = new_df\n",
    "        return self.df, X_test_df"
   ]
  },
  {
   "cell_type": "code",
   "execution_count": 4,
   "metadata": {},
   "outputs": [
    {
     "name": "stderr",
     "output_type": "stream",
     "text": [
      "<ipython-input-3-3e3c4edbe46e>:56: SettingWithCopyWarning: \n",
      "A value is trying to be set on a copy of a slice from a DataFrame.\n",
      "Try using .loc[row_indexer,col_indexer] = value instead\n",
      "\n",
      "See the caveats in the documentation: https://pandas.pydata.org/pandas-docs/stable/user_guide/indexing.html#returning-a-view-versus-a-copy\n",
      "  for_outlier_x['outlier_score'] = for_outlier_y_pred\n",
      "<ipython-input-3-3e3c4edbe46e>:57: SettingWithCopyWarning: \n",
      "A value is trying to be set on a copy of a slice from a DataFrame.\n",
      "Try using .loc[row_indexer,col_indexer] = value instead\n",
      "\n",
      "See the caveats in the documentation: https://pandas.pydata.org/pandas-docs/stable/user_guide/indexing.html#returning-a-view-versus-a-copy\n",
      "  for_outlier_x['Category'] = for_outlier_y\n",
      "<ipython-input-3-3e3c4edbe46e>:58: SettingWithCopyWarning: \n",
      "A value is trying to be set on a copy of a slice from a DataFrame.\n",
      "Try using .loc[row_indexer,col_indexer] = value instead\n",
      "\n",
      "See the caveats in the documentation: https://pandas.pydata.org/pandas-docs/stable/user_guide/indexing.html#returning-a-view-versus-a-copy\n",
      "  for_outlier_x['eid'] = new_df_healthy['eid']\n"
     ]
    }
   ],
   "source": [
    "instance = PreProcessing(df)\n",
    "train_df, test_df= instance.finalCleanedDf()"
   ]
  },
  {
   "cell_type": "code",
   "execution_count": 5,
   "metadata": {},
   "outputs": [
    {
     "data": {
      "text/plain": [
       "0.0    50836\n",
       "2.0    26174\n",
       "1.0    25490\n",
       "Name: Category, dtype: int64"
      ]
     },
     "execution_count": 5,
     "metadata": {},
     "output_type": "execute_result"
    }
   ],
   "source": [
    "train_df['Category'].value_counts()"
   ]
  },
  {
   "cell_type": "code",
   "execution_count": 6,
   "metadata": {},
   "outputs": [
    {
     "data": {
      "text/plain": [
       "0.0    521\n",
       "1.0    169\n",
       "2.0     17\n",
       "Name: Category, dtype: int64"
      ]
     },
     "execution_count": 6,
     "metadata": {},
     "output_type": "execute_result"
    }
   ],
   "source": [
    "test_df['Category'].value_counts()"
   ]
  },
  {
   "cell_type": "code",
   "execution_count": 7,
   "metadata": {},
   "outputs": [
    {
     "data": {
      "text/plain": [
       "0.0    690\n",
       "1.0     17\n",
       "Name: Arr, dtype: int64"
      ]
     },
     "execution_count": 7,
     "metadata": {},
     "output_type": "execute_result"
    }
   ],
   "source": [
    "test_df['Arr'].value_counts()"
   ]
  },
  {
   "cell_type": "code",
   "execution_count": 8,
   "metadata": {},
   "outputs": [],
   "source": [
    "X_train = train_df.drop(columns=['eid', 'AF', 'Arr', 'Category'])\n",
    "y_train = train_df['Category']\n",
    "\n",
    "\n",
    "X_test = test_df.drop(columns=['eid', 'AF', 'Arr', 'Category'])\n",
    "y_test = test_df['Category']"
   ]
  },
  {
   "cell_type": "code",
   "execution_count": 9,
   "metadata": {},
   "outputs": [],
   "source": [
    "estimators = []\n",
    "\n",
    "model1 = xgb.XGBClassifier(objective='multi:softmax', subsample=0.75,  \n",
    "                          n_estimators=100, colsample_bytree = 0.99, learning_rate = 1,\n",
    "                max_depth = 10,  gamma=5, alpha = 1, seed=123, use_label_encoder=False, eval_metric='error')\n",
    "\n",
    "estimators.append(('XGBoost', model1))\n",
    "# estimators.append(('bayes', GaussianNB()))\n",
    "# estimators.append(('GradientDescent' , SGDClassifier(loss=\"modified_huber\", penalty=\"elasticnet\", max_iter=500)))\n",
    "ensemble = VotingClassifier(estimators, voting = 'hard')"
   ]
  },
  {
   "cell_type": "code",
   "execution_count": 10,
   "metadata": {},
   "outputs": [],
   "source": [
    "ensemble.fit(X_train, y_train)\n",
    "y_pred = ensemble.predict(X_test)"
   ]
  },
  {
   "cell_type": "code",
   "execution_count": 11,
   "metadata": {},
   "outputs": [
    {
     "data": {
      "text/plain": [
       "0.0    50836\n",
       "2.0    26174\n",
       "1.0    25490\n",
       "Name: Category, dtype: int64"
      ]
     },
     "execution_count": 11,
     "metadata": {},
     "output_type": "execute_result"
    }
   ],
   "source": [
    "y_train.value_counts()"
   ]
  },
  {
   "cell_type": "code",
   "execution_count": 12,
   "metadata": {},
   "outputs": [
    {
     "data": {
      "text/plain": [
       "Counter({0.0: 704, 2.0: 1, 1.0: 2})"
      ]
     },
     "execution_count": 12,
     "metadata": {},
     "output_type": "execute_result"
    }
   ],
   "source": [
    "Counter(y_pred)"
   ]
  },
  {
   "cell_type": "code",
   "execution_count": 13,
   "metadata": {},
   "outputs": [
    {
     "data": {
      "text/plain": [
       "0.0    521\n",
       "1.0    169\n",
       "2.0     17\n",
       "Name: Category, dtype: int64"
      ]
     },
     "execution_count": 13,
     "metadata": {},
     "output_type": "execute_result"
    }
   ],
   "source": [
    "y_test.value_counts()"
   ]
  },
  {
   "cell_type": "code",
   "execution_count": 14,
   "metadata": {},
   "outputs": [],
   "source": [
    "# Creating  a confusion matrix,which compares the y_test and y_pred\n",
    "cm = confusion_matrix(y_test, y_pred)"
   ]
  },
  {
   "cell_type": "code",
   "execution_count": 15,
   "metadata": {},
   "outputs": [
    {
     "data": {
      "text/plain": [
       "array([[521,   0,   0],\n",
       "       [166,   2,   1],\n",
       "       [ 17,   0,   0]], dtype=int64)"
      ]
     },
     "execution_count": 15,
     "metadata": {},
     "output_type": "execute_result"
    }
   ],
   "source": [
    "cm"
   ]
  },
  {
   "cell_type": "code",
   "execution_count": 16,
   "metadata": {},
   "outputs": [],
   "source": [
    "# Creating a dataframe for a array-formatted Confusion matrix,so it will be easy for plotting.\n",
    "cm_df = pd.DataFrame(cm,\n",
    "                     index = ['Healthy','AF','Arr'], \n",
    "                     columns = ['Healthy','AF','Arr'])"
   ]
  },
  {
   "cell_type": "code",
   "execution_count": 17,
   "metadata": {},
   "outputs": [
    {
     "name": "stdout",
     "output_type": "stream",
     "text": [
      "f1_score: 0.291\n",
      "Precision: 0.580\n",
      "Recall: 0.337\n"
     ]
    }
   ],
   "source": [
    "from sklearn.metrics import f1_score\n",
    "f1_score = f1_score(y_test, y_pred, average='macro')\n",
    "print('f1_score: %.3f' % f1_score)\n",
    "from sklearn.metrics import precision_score\n",
    "precision = precision_score(y_test, y_pred, average='macro')\n",
    "print('Precision: %.3f' % precision)\n",
    "\n",
    "from sklearn.metrics import recall_score\n",
    "recall = recall_score(y_test, y_pred, average='macro')\n",
    "print('Recall: %.3f' % recall)"
   ]
  },
  {
   "cell_type": "code",
   "execution_count": 18,
   "metadata": {},
   "outputs": [
    {
     "data": {
      "image/png": "[encoded data removed]",
      "text/plain": [
       "<Figure size 360x288 with 2 Axes>"
      ]
     },
     "metadata": {
      "needs_background": "light"
     },
     "output_type": "display_data"
    }
   ],
   "source": [
    "#importing packages\n",
    "import pandas as pd\n",
    "import numpy as np\n",
    "import seaborn as sns\n",
    "import matplotlib.pyplot as plt\n",
    "#Plotting the confusion matrix\n",
    "plt.figure(figsize=(5,4))\n",
    "sns.heatmap(cm_df, annot=True)\n",
    "plt.title('Confusion Matrix')\n",
    "plt.ylabel('Actal Values')\n",
    "plt.xlabel('Predicted Values')\n",
    "plt.show()"
   ]
  },
  {
   "cell_type": "code",
   "execution_count": 19,
   "metadata": {},
   "outputs": [
    {
     "name": "stdout",
     "output_type": "stream",
     "text": [
      "              precision    recall  f1-score   support\n",
      "\n",
      "         0.0       0.74      1.00      0.85       521\n",
      "         1.0       1.00      0.01      0.02       169\n",
      "         2.0       0.00      0.00      0.00        17\n",
      "\n",
      "    accuracy                           0.74       707\n",
      "   macro avg       0.58      0.34      0.29       707\n",
      "weighted avg       0.78      0.74      0.63       707\n",
      "\n"
     ]
    }
   ],
   "source": [
    "print(classification_report(y_test, y_pred))"
   ]
  },
  {
   "cell_type": "code",
   "execution_count": null,
   "metadata": {},
   "outputs": [],
   "source": []
  },
  {
   "cell_type": "code",
   "execution_count": null,
   "metadata": {},
   "outputs": [],
   "source": []
  }
 ],
 "metadata": {
  "kernelspec": {
   "display_name": "Python 3",
   "language": "python",
   "name": "python3"
  },
  "language_info": {
   "codemirror_mode": {
    "name": "ipython",
    "version": 3
   },
   "file_extension": ".py",
   "mimetype": "text/x-python",
   "name": "python",
   "nbconvert_exporter": "python",
   "pygments_lexer": "ipython3",
   "version": "3.8.5"
  }
 },
 "nbformat": 4,
 "nbformat_minor": 4
}
