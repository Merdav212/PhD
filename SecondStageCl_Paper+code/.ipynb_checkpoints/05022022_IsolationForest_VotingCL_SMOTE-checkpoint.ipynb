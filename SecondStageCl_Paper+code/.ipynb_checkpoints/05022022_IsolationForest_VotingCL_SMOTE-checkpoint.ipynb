{
 "cells": [
  {
   "cell_type": "markdown",
   "metadata": {},
   "source": [
    "## IF + VC + SMOTE"
   ]
  },
  {
   "cell_type": "code",
   "execution_count": 98,
   "metadata": {
    "jupyter": {
     "source_hidden": true
    }
   },
   "outputs": [],
   "source": [
    "from collections import Counter\n",
    "from sklearn.datasets import make_classification\n",
    "from matplotlib import pyplot\n",
    "from numpy import where\n",
    "\n",
    "import pandas as pd\n",
    "import numpy as np\n",
    "import matplotlib.pyplot as plt\n",
    "%matplotlib inline\n",
    "from sklearn.linear_model import LinearRegression\n",
    "from sklearn.model_selection import train_test_split \n",
    "import xgboost as xgb\n",
    "from sklearn.model_selection import train_test_split \n",
    "from sklearn.metrics import accuracy_score\n",
    "from sklearn.feature_selection import SelectFromModel\n",
    "from sklearn.model_selection import cross_val_score\n",
    "from sklearn.feature_selection import SelectKBest\n",
    "from sklearn.feature_selection import f_classif\n",
    "from sklearn.model_selection import RepeatedStratifiedKFold\n",
    "from sklearn.model_selection import StratifiedKFold \n",
    "from sklearn.model_selection import GridSearchCV\n",
    "from sklearn.model_selection import RandomizedSearchCV\n",
    "from sklearn.metrics import mean_squared_error\n",
    "from sklearn.metrics import roc_auc_score\n",
    "from sklearn.metrics import plot_roc_curve\n",
    "from numpy import loadtxt\n",
    "from numpy import sort\n",
    "from numpy import mean\n",
    "from sklearn.metrics import cohen_kappa_score\n",
    "#from autoimpute.imputations import MultipleImputer\n",
    "from sklearn.experimental import enable_iterative_imputer\n",
    "from sklearn.impute import IterativeImputer\n",
    "\n",
    "\n",
    "from sklearn.impute import SimpleImputer \n",
    "from sklearn.metrics import plot_confusion_matrix\n",
    "from scipy.stats import pearsonr\n",
    "from scipy.stats import spearmanr\n",
    "from imblearn.over_sampling import SMOTE\n",
    "from imblearn.over_sampling import SMOTENC\n",
    "\n",
    "from sklearn import svm\n",
    "from sklearn.ensemble import VotingClassifier\n",
    "from sklearn import model_selection\n",
    "from sklearn.discriminant_analysis import LinearDiscriminantAnalysis\n",
    "from sklearn import svm\n",
    "from sklearn.ensemble import AdaBoostClassifier\n",
    "from sklearn.naive_bayes import GaussianNB\n",
    "from sklearn.tree import DecisionTreeClassifier\n",
    "from sklearn.ensemble import GradientBoostingClassifier\n",
    "from sklearn.linear_model import SGDClassifier\n",
    "from sklearn.neighbors import KNeighborsClassifier\n",
    "from sklearn.ensemble import RandomForestClassifier\n",
    "from sklearn.model_selection import GridSearchCV\n",
    "import xgboost as xgb"
   ]
  },
  {
   "cell_type": "markdown",
   "metadata": {},
   "source": [
    "### Reading the data"
   ]
  },
  {
   "cell_type": "code",
   "execution_count": 99,
   "metadata": {},
   "outputs": [],
   "source": [
    "df = pd.read_excel(\"Updated_UKBioBank.xlsx\")"
   ]
  },
  {
   "cell_type": "code",
   "execution_count": 100,
   "metadata": {},
   "outputs": [],
   "source": [
    "### removing the redundant column as advised by collaborators\n",
    "df = df.iloc[:, df.columns != 'QTrest']"
   ]
  },
  {
   "cell_type": "markdown",
   "metadata": {},
   "source": [
    "### Imputing values using SimpleImputer"
   ]
  },
  {
   "cell_type": "code",
   "execution_count": 101,
   "metadata": {},
   "outputs": [],
   "source": [
    "imp = SimpleImputer(missing_values=np.nan, strategy=\"most_frequent\")\n",
    "Imputed_df = imp.fit_transform(df)\n",
    "# # "
   ]
  },
  {
   "cell_type": "code",
   "execution_count": 102,
   "metadata": {},
   "outputs": [],
   "source": [
    "df = pd.DataFrame(Imputed_df)\n",
    "df = df.rename(columns={0: \"eid\", 1: \"sex\", 2:'RRrest', 3:'Tperest', 4:'QTc', 5:'QRS_rest', 6:'Age',\n",
    "                       7:'BMI', 8:'Diab', 9:'smoke', 10:'DBP', 11:'SBP', 12:'chol', 13:'PR', 14:'AF', 15:'Arr'})"
   ]
  },
  {
   "cell_type": "code",
   "execution_count": 103,
   "metadata": {},
   "outputs": [
    {
     "data": {
      "text/plain": [
       "Index(['eid', 'sex', 'RRrest', 'Tperest', 'QTc', 'QRS_rest', 'Age', 'BMI',\n",
       "       'Diab', 'smoke', 'DBP', 'SBP', 'chol', 'PR', 'AF', 'Arr'],\n",
       "      dtype='object')"
      ]
     },
     "execution_count": 103,
     "metadata": {},
     "output_type": "execute_result"
    }
   ],
   "source": [
    "df.columns"
   ]
  },
  {
   "cell_type": "code",
   "execution_count": 104,
   "metadata": {},
   "outputs": [],
   "source": [
    "df_no_overlap = df[~((df['AF']==1) & (df['Arr']==1))] # dataset where the patients that have both cases have been removed"
   ]
  },
  {
   "cell_type": "code",
   "execution_count": 105,
   "metadata": {},
   "outputs": [],
   "source": [
    "healthy_patients = df_no_overlap[((df_no_overlap['AF']==0) & (df_no_overlap['Arr']==0))]"
   ]
  },
  {
   "cell_type": "code",
   "execution_count": 106,
   "metadata": {},
   "outputs": [],
   "source": [
    "only_disease_df = df_no_overlap[((df_no_overlap['AF']==1) | (df_no_overlap['Arr']==1))] "
   ]
  },
  {
   "cell_type": "code",
   "execution_count": 107,
   "metadata": {},
   "outputs": [
    {
     "data": {
      "text/plain": [
       "(1844, 16)"
      ]
     },
     "execution_count": 107,
     "metadata": {},
     "output_type": "execute_result"
    }
   ],
   "source": [
    "only_disease_df.shape"
   ]
  },
  {
   "cell_type": "code",
   "execution_count": 108,
   "metadata": {},
   "outputs": [
    {
     "data": {
      "text/plain": [
       "(53895, 16)"
      ]
     },
     "execution_count": 108,
     "metadata": {},
     "output_type": "execute_result"
    }
   ],
   "source": [
    "df_no_overlap.shape"
   ]
  },
  {
   "cell_type": "code",
   "execution_count": 109,
   "metadata": {},
   "outputs": [],
   "source": [
    "### I am going to add the disease label now so I can remove outliers"
   ]
  },
  {
   "cell_type": "code",
   "execution_count": 110,
   "metadata": {},
   "outputs": [
    {
     "name": "stderr",
     "output_type": "stream",
     "text": [
      "C:\\Users\\user\\anaconda3\\lib\\site-packages\\pandas\\core\\indexing.py:1596: SettingWithCopyWarning: \n",
      "A value is trying to be set on a copy of a slice from a DataFrame.\n",
      "Try using .loc[row_indexer,col_indexer] = value instead\n",
      "\n",
      "See the caveats in the documentation: https://pandas.pydata.org/pandas-docs/stable/user_guide/indexing.html#returning-a-view-versus-a-copy\n",
      "  self.obj[key] = _infer_fill_value(value)\n",
      "C:\\Users\\user\\anaconda3\\lib\\site-packages\\pandas\\core\\indexing.py:1601: SettingWithCopyWarning: \n",
      "A value is trying to be set on a copy of a slice from a DataFrame\n",
      "\n",
      "See the caveats in the documentation: https://pandas.pydata.org/pandas-docs/stable/user_guide/indexing.html#returning-a-view-versus-a-copy\n",
      "  self._setitem_with_indexer(new_indexer, value)\n",
      "C:\\Users\\user\\anaconda3\\lib\\site-packages\\pandas\\core\\indexing.py:670: SettingWithCopyWarning: \n",
      "A value is trying to be set on a copy of a slice from a DataFrame\n",
      "\n",
      "See the caveats in the documentation: https://pandas.pydata.org/pandas-docs/stable/user_guide/indexing.html#returning-a-view-versus-a-copy\n",
      "  iloc._setitem_with_indexer(indexer, value)\n",
      "C:\\Users\\user\\anaconda3\\lib\\site-packages\\pandas\\core\\indexing.py:670: SettingWithCopyWarning: \n",
      "A value is trying to be set on a copy of a slice from a DataFrame\n",
      "\n",
      "See the caveats in the documentation: https://pandas.pydata.org/pandas-docs/stable/user_guide/indexing.html#returning-a-view-versus-a-copy\n",
      "  iloc._setitem_with_indexer(indexer, value)\n",
      "<ipython-input-110-43df0e1e79c9>:2: SettingWithCopyWarning: \n",
      "A value is trying to be set on a copy of a slice from a DataFrame\n",
      "\n",
      "See the caveats in the documentation: https://pandas.pydata.org/pandas-docs/stable/user_guide/indexing.html#returning-a-view-versus-a-copy\n",
      "  only_disease_df.loc[(only_disease_df['Arr'] == 1) & (only_disease_df['AF'] == 0), 'Disease'] = 1\n"
     ]
    }
   ],
   "source": [
    "only_disease_df.loc[(only_disease_df['Arr'] == 0) & (only_disease_df['AF'] == 1), 'Disease'] = 0\n",
    "only_disease_df.loc[(only_disease_df['Arr'] == 1) & (only_disease_df['AF'] == 0), 'Disease'] = 1"
   ]
  },
  {
   "cell_type": "code",
   "execution_count": 111,
   "metadata": {},
   "outputs": [
    {
     "data": {
      "text/html": [
       "<div>\n",
       "<style scoped>\n",
       "    .dataframe tbody tr th:only-of-type {\n",
       "        vertical-align: middle;\n",
       "    }\n",
       "\n",
       "    .dataframe tbody tr th {\n",
       "        vertical-align: top;\n",
       "    }\n",
       "\n",
       "    .dataframe thead th {\n",
       "        text-align: right;\n",
       "    }\n",
       "</style>\n",
       "<table border=\"1\" class=\"dataframe\">\n",
       "  <thead>\n",
       "    <tr style=\"text-align: right;\">\n",
       "      <th></th>\n",
       "      <th>eid</th>\n",
       "      <th>sex</th>\n",
       "      <th>RRrest</th>\n",
       "      <th>Tperest</th>\n",
       "      <th>QTc</th>\n",
       "      <th>QRS_rest</th>\n",
       "      <th>Age</th>\n",
       "      <th>BMI</th>\n",
       "      <th>Diab</th>\n",
       "      <th>smoke</th>\n",
       "      <th>DBP</th>\n",
       "      <th>SBP</th>\n",
       "      <th>chol</th>\n",
       "      <th>PR</th>\n",
       "      <th>AF</th>\n",
       "      <th>Arr</th>\n",
       "      <th>Disease</th>\n",
       "    </tr>\n",
       "  </thead>\n",
       "  <tbody>\n",
       "    <tr>\n",
       "      <th>35</th>\n",
       "      <td>1003429.0</td>\n",
       "      <td>1.0</td>\n",
       "      <td>0.968</td>\n",
       "      <td>0.0645</td>\n",
       "      <td>0.355230</td>\n",
       "      <td>96.0</td>\n",
       "      <td>74.0</td>\n",
       "      <td>34.8141</td>\n",
       "      <td>0.0</td>\n",
       "      <td>0.0</td>\n",
       "      <td>85.5</td>\n",
       "      <td>141.5</td>\n",
       "      <td>0.0</td>\n",
       "      <td>166.0</td>\n",
       "      <td>1.0</td>\n",
       "      <td>0.0</td>\n",
       "      <td>0.0</td>\n",
       "    </tr>\n",
       "    <tr>\n",
       "      <th>44</th>\n",
       "      <td>1003947.0</td>\n",
       "      <td>1.0</td>\n",
       "      <td>0.858</td>\n",
       "      <td>0.0585</td>\n",
       "      <td>0.361661</td>\n",
       "      <td>76.0</td>\n",
       "      <td>67.0</td>\n",
       "      <td>28.8612</td>\n",
       "      <td>0.0</td>\n",
       "      <td>0.0</td>\n",
       "      <td>85.5</td>\n",
       "      <td>154.5</td>\n",
       "      <td>1.0</td>\n",
       "      <td>389.0</td>\n",
       "      <td>1.0</td>\n",
       "      <td>0.0</td>\n",
       "      <td>0.0</td>\n",
       "    </tr>\n",
       "    <tr>\n",
       "      <th>196</th>\n",
       "      <td>1017479.0</td>\n",
       "      <td>0.0</td>\n",
       "      <td>0.861</td>\n",
       "      <td>0.0690</td>\n",
       "      <td>0.452635</td>\n",
       "      <td>69.0</td>\n",
       "      <td>67.0</td>\n",
       "      <td>25.5567</td>\n",
       "      <td>0.0</td>\n",
       "      <td>0.0</td>\n",
       "      <td>64.5</td>\n",
       "      <td>116.0</td>\n",
       "      <td>0.0</td>\n",
       "      <td>131.0</td>\n",
       "      <td>1.0</td>\n",
       "      <td>0.0</td>\n",
       "      <td>0.0</td>\n",
       "    </tr>\n",
       "    <tr>\n",
       "      <th>199</th>\n",
       "      <td>1017854.0</td>\n",
       "      <td>1.0</td>\n",
       "      <td>0.807</td>\n",
       "      <td>0.0665</td>\n",
       "      <td>0.387941</td>\n",
       "      <td>50.0</td>\n",
       "      <td>43.0</td>\n",
       "      <td>32.2029</td>\n",
       "      <td>0.0</td>\n",
       "      <td>0.0</td>\n",
       "      <td>81.0</td>\n",
       "      <td>131.0</td>\n",
       "      <td>0.0</td>\n",
       "      <td>146.0</td>\n",
       "      <td>1.0</td>\n",
       "      <td>0.0</td>\n",
       "      <td>0.0</td>\n",
       "    </tr>\n",
       "    <tr>\n",
       "      <th>215</th>\n",
       "      <td>1019465.0</td>\n",
       "      <td>0.0</td>\n",
       "      <td>1.020</td>\n",
       "      <td>0.0525</td>\n",
       "      <td>0.382692</td>\n",
       "      <td>44.0</td>\n",
       "      <td>64.0</td>\n",
       "      <td>29.9301</td>\n",
       "      <td>0.0</td>\n",
       "      <td>0.0</td>\n",
       "      <td>84.0</td>\n",
       "      <td>152.5</td>\n",
       "      <td>1.0</td>\n",
       "      <td>138.0</td>\n",
       "      <td>1.0</td>\n",
       "      <td>0.0</td>\n",
       "      <td>0.0</td>\n",
       "    </tr>\n",
       "  </tbody>\n",
       "</table>\n",
       "</div>"
      ],
      "text/plain": [
       "           eid  sex  RRrest  Tperest       QTc  QRS_rest   Age      BMI  Diab  \\\n",
       "35   1003429.0  1.0   0.968   0.0645  0.355230      96.0  74.0  34.8141   0.0   \n",
       "44   1003947.0  1.0   0.858   0.0585  0.361661      76.0  67.0  28.8612   0.0   \n",
       "196  1017479.0  0.0   0.861   0.0690  0.452635      69.0  67.0  25.5567   0.0   \n",
       "199  1017854.0  1.0   0.807   0.0665  0.387941      50.0  43.0  32.2029   0.0   \n",
       "215  1019465.0  0.0   1.020   0.0525  0.382692      44.0  64.0  29.9301   0.0   \n",
       "\n",
       "     smoke   DBP    SBP  chol     PR   AF  Arr  Disease  \n",
       "35     0.0  85.5  141.5   0.0  166.0  1.0  0.0      0.0  \n",
       "44     0.0  85.5  154.5   1.0  389.0  1.0  0.0      0.0  \n",
       "196    0.0  64.5  116.0   0.0  131.0  1.0  0.0      0.0  \n",
       "199    0.0  81.0  131.0   0.0  146.0  1.0  0.0      0.0  \n",
       "215    0.0  84.0  152.5   1.0  138.0  1.0  0.0      0.0  "
      ]
     },
     "execution_count": 111,
     "metadata": {},
     "output_type": "execute_result"
    }
   ],
   "source": [
    "only_disease_df.head()"
   ]
  },
  {
   "cell_type": "markdown",
   "metadata": {},
   "source": [
    "### Isolation Forest"
   ]
  },
  {
   "cell_type": "code",
   "execution_count": 112,
   "metadata": {},
   "outputs": [],
   "source": [
    "from sklearn.ensemble import IsolationForest\n",
    "data = only_disease_df.drop(columns=['AF', 'Arr']).to_numpy()\n",
    "X , y = data[:, :-1], data[:, -1]\n",
    "\n",
    "iso = IsolationForest(contamination=0.3)\n",
    "yhat = iso.fit_predict(X)\n",
    "# select all rows that are not outliers\n",
    "mask = yhat != -1\n",
    "afterX, aftery = X[mask, :], y[mask]"
   ]
  },
  {
   "cell_type": "code",
   "execution_count": 113,
   "metadata": {},
   "outputs": [
    {
     "name": "stdout",
     "output_type": "stream",
     "text": [
      "No of AF cases before (1682,)\n",
      "No of AF cases after outlier removal (1171,)\n",
      "No of Arr cases before (162,)\n",
      "No of Arr cases after outlier removal (120,)\n"
     ]
    }
   ],
   "source": [
    "print('No of AF cases before', y[y== 0].shape)\n",
    "print('No of AF cases after outlier removal', aftery[aftery == 0].shape)\n",
    "\n",
    "print('No of Arr cases before',y[y == 1].shape)\n",
    "print('No of Arr cases after outlier removal', aftery[aftery== 1].shape)"
   ]
  },
  {
   "cell_type": "code",
   "execution_count": 114,
   "metadata": {},
   "outputs": [],
   "source": [
    "unhealthy_df_no_outliers = pd.DataFrame(afterX,  columns = ['eid', 'sex', 'RRrest', 'Tperest', 'QTc', 'QRS_rest', 'Age', 'BMI', 'Diab', 'smoke', 'DBP', 'SBP', 'chol', 'PR'])"
   ]
  },
  {
   "cell_type": "code",
   "execution_count": 115,
   "metadata": {},
   "outputs": [
    {
     "data": {
      "text/html": [
       "<div>\n",
       "<style scoped>\n",
       "    .dataframe tbody tr th:only-of-type {\n",
       "        vertical-align: middle;\n",
       "    }\n",
       "\n",
       "    .dataframe tbody tr th {\n",
       "        vertical-align: top;\n",
       "    }\n",
       "\n",
       "    .dataframe thead th {\n",
       "        text-align: right;\n",
       "    }\n",
       "</style>\n",
       "<table border=\"1\" class=\"dataframe\">\n",
       "  <thead>\n",
       "    <tr style=\"text-align: right;\">\n",
       "      <th></th>\n",
       "      <th>eid</th>\n",
       "      <th>sex</th>\n",
       "      <th>RRrest</th>\n",
       "      <th>Tperest</th>\n",
       "      <th>QTc</th>\n",
       "      <th>QRS_rest</th>\n",
       "      <th>Age</th>\n",
       "      <th>BMI</th>\n",
       "      <th>Diab</th>\n",
       "      <th>smoke</th>\n",
       "      <th>DBP</th>\n",
       "      <th>SBP</th>\n",
       "      <th>chol</th>\n",
       "      <th>PR</th>\n",
       "    </tr>\n",
       "  </thead>\n",
       "  <tbody>\n",
       "    <tr>\n",
       "      <th>0</th>\n",
       "      <td>1017854.0</td>\n",
       "      <td>1.0</td>\n",
       "      <td>0.807</td>\n",
       "      <td>0.0665</td>\n",
       "      <td>0.387941</td>\n",
       "      <td>50.0</td>\n",
       "      <td>43.0</td>\n",
       "      <td>32.2029</td>\n",
       "      <td>0.0</td>\n",
       "      <td>0.0</td>\n",
       "      <td>81.0</td>\n",
       "      <td>131.0</td>\n",
       "      <td>0.0</td>\n",
       "      <td>146.0</td>\n",
       "    </tr>\n",
       "    <tr>\n",
       "      <th>1</th>\n",
       "      <td>1022683.0</td>\n",
       "      <td>0.0</td>\n",
       "      <td>0.906</td>\n",
       "      <td>0.0715</td>\n",
       "      <td>0.419188</td>\n",
       "      <td>76.0</td>\n",
       "      <td>58.0</td>\n",
       "      <td>26.7149</td>\n",
       "      <td>0.0</td>\n",
       "      <td>1.0</td>\n",
       "      <td>98.0</td>\n",
       "      <td>151.5</td>\n",
       "      <td>0.0</td>\n",
       "      <td>162.0</td>\n",
       "    </tr>\n",
       "    <tr>\n",
       "      <th>2</th>\n",
       "      <td>1028491.0</td>\n",
       "      <td>0.0</td>\n",
       "      <td>0.854</td>\n",
       "      <td>0.0735</td>\n",
       "      <td>0.430679</td>\n",
       "      <td>69.0</td>\n",
       "      <td>62.0</td>\n",
       "      <td>28.7415</td>\n",
       "      <td>0.0</td>\n",
       "      <td>1.0</td>\n",
       "      <td>91.5</td>\n",
       "      <td>170.0</td>\n",
       "      <td>0.0</td>\n",
       "      <td>136.0</td>\n",
       "    </tr>\n",
       "    <tr>\n",
       "      <th>3</th>\n",
       "      <td>1028813.0</td>\n",
       "      <td>1.0</td>\n",
       "      <td>0.718</td>\n",
       "      <td>0.0570</td>\n",
       "      <td>0.395941</td>\n",
       "      <td>70.0</td>\n",
       "      <td>65.0</td>\n",
       "      <td>29.9921</td>\n",
       "      <td>0.0</td>\n",
       "      <td>0.0</td>\n",
       "      <td>92.5</td>\n",
       "      <td>144.5</td>\n",
       "      <td>0.0</td>\n",
       "      <td>145.0</td>\n",
       "    </tr>\n",
       "    <tr>\n",
       "      <th>4</th>\n",
       "      <td>1028911.0</td>\n",
       "      <td>1.0</td>\n",
       "      <td>0.858</td>\n",
       "      <td>0.0720</td>\n",
       "      <td>0.425356</td>\n",
       "      <td>63.0</td>\n",
       "      <td>65.0</td>\n",
       "      <td>31.6839</td>\n",
       "      <td>0.0</td>\n",
       "      <td>0.0</td>\n",
       "      <td>76.0</td>\n",
       "      <td>163.5</td>\n",
       "      <td>0.0</td>\n",
       "      <td>130.0</td>\n",
       "    </tr>\n",
       "  </tbody>\n",
       "</table>\n",
       "</div>"
      ],
      "text/plain": [
       "         eid  sex  RRrest  Tperest       QTc  QRS_rest   Age      BMI  Diab  \\\n",
       "0  1017854.0  1.0   0.807   0.0665  0.387941      50.0  43.0  32.2029   0.0   \n",
       "1  1022683.0  0.0   0.906   0.0715  0.419188      76.0  58.0  26.7149   0.0   \n",
       "2  1028491.0  0.0   0.854   0.0735  0.430679      69.0  62.0  28.7415   0.0   \n",
       "3  1028813.0  1.0   0.718   0.0570  0.395941      70.0  65.0  29.9921   0.0   \n",
       "4  1028911.0  1.0   0.858   0.0720  0.425356      63.0  65.0  31.6839   0.0   \n",
       "\n",
       "   smoke   DBP    SBP  chol     PR  \n",
       "0    0.0  81.0  131.0   0.0  146.0  \n",
       "1    1.0  98.0  151.5   0.0  162.0  \n",
       "2    1.0  91.5  170.0   0.0  136.0  \n",
       "3    0.0  92.5  144.5   0.0  145.0  \n",
       "4    0.0  76.0  163.5   0.0  130.0  "
      ]
     },
     "execution_count": 115,
     "metadata": {},
     "output_type": "execute_result"
    }
   ],
   "source": [
    "unhealthy_df_no_outliers.head()"
   ]
  },
  {
   "cell_type": "code",
   "execution_count": 116,
   "metadata": {},
   "outputs": [],
   "source": [
    "test = unhealthy_df_no_outliers.copy()\n",
    "kk = only_disease_df.copy()\n",
    "\n",
    "j1 = test.set_index('eid').index\n",
    "j2 = kk.set_index('eid').index\n",
    "j3 = kk.set_index('eid').index\n",
    "unhealthy_df_no_outliers =  kk[j3.isin(j1)]"
   ]
  },
  {
   "cell_type": "code",
   "execution_count": 117,
   "metadata": {},
   "outputs": [
    {
     "data": {
      "text/html": [
       "<div>\n",
       "<style scoped>\n",
       "    .dataframe tbody tr th:only-of-type {\n",
       "        vertical-align: middle;\n",
       "    }\n",
       "\n",
       "    .dataframe tbody tr th {\n",
       "        vertical-align: top;\n",
       "    }\n",
       "\n",
       "    .dataframe thead th {\n",
       "        text-align: right;\n",
       "    }\n",
       "</style>\n",
       "<table border=\"1\" class=\"dataframe\">\n",
       "  <thead>\n",
       "    <tr style=\"text-align: right;\">\n",
       "      <th></th>\n",
       "      <th>eid</th>\n",
       "      <th>sex</th>\n",
       "      <th>RRrest</th>\n",
       "      <th>Tperest</th>\n",
       "      <th>QTc</th>\n",
       "      <th>QRS_rest</th>\n",
       "      <th>Age</th>\n",
       "      <th>BMI</th>\n",
       "      <th>Diab</th>\n",
       "      <th>smoke</th>\n",
       "      <th>DBP</th>\n",
       "      <th>SBP</th>\n",
       "      <th>chol</th>\n",
       "      <th>PR</th>\n",
       "      <th>AF</th>\n",
       "      <th>Arr</th>\n",
       "      <th>Disease</th>\n",
       "    </tr>\n",
       "  </thead>\n",
       "  <tbody>\n",
       "    <tr>\n",
       "      <th>199</th>\n",
       "      <td>1017854.0</td>\n",
       "      <td>1.0</td>\n",
       "      <td>0.807</td>\n",
       "      <td>0.0665</td>\n",
       "      <td>0.387941</td>\n",
       "      <td>50.0</td>\n",
       "      <td>43.0</td>\n",
       "      <td>32.2029</td>\n",
       "      <td>0.0</td>\n",
       "      <td>0.0</td>\n",
       "      <td>81.0</td>\n",
       "      <td>131.0</td>\n",
       "      <td>0.0</td>\n",
       "      <td>146.0</td>\n",
       "      <td>1.0</td>\n",
       "      <td>0.0</td>\n",
       "      <td>0.0</td>\n",
       "    </tr>\n",
       "    <tr>\n",
       "      <th>256</th>\n",
       "      <td>1022683.0</td>\n",
       "      <td>0.0</td>\n",
       "      <td>0.906</td>\n",
       "      <td>0.0715</td>\n",
       "      <td>0.419188</td>\n",
       "      <td>76.0</td>\n",
       "      <td>58.0</td>\n",
       "      <td>26.7149</td>\n",
       "      <td>0.0</td>\n",
       "      <td>1.0</td>\n",
       "      <td>98.0</td>\n",
       "      <td>151.5</td>\n",
       "      <td>0.0</td>\n",
       "      <td>162.0</td>\n",
       "      <td>1.0</td>\n",
       "      <td>0.0</td>\n",
       "      <td>0.0</td>\n",
       "    </tr>\n",
       "    <tr>\n",
       "      <th>310</th>\n",
       "      <td>1028491.0</td>\n",
       "      <td>0.0</td>\n",
       "      <td>0.854</td>\n",
       "      <td>0.0735</td>\n",
       "      <td>0.430679</td>\n",
       "      <td>69.0</td>\n",
       "      <td>62.0</td>\n",
       "      <td>28.7415</td>\n",
       "      <td>0.0</td>\n",
       "      <td>1.0</td>\n",
       "      <td>91.5</td>\n",
       "      <td>170.0</td>\n",
       "      <td>0.0</td>\n",
       "      <td>136.0</td>\n",
       "      <td>1.0</td>\n",
       "      <td>0.0</td>\n",
       "      <td>0.0</td>\n",
       "    </tr>\n",
       "    <tr>\n",
       "      <th>314</th>\n",
       "      <td>1028813.0</td>\n",
       "      <td>1.0</td>\n",
       "      <td>0.718</td>\n",
       "      <td>0.0570</td>\n",
       "      <td>0.395941</td>\n",
       "      <td>70.0</td>\n",
       "      <td>65.0</td>\n",
       "      <td>29.9921</td>\n",
       "      <td>0.0</td>\n",
       "      <td>0.0</td>\n",
       "      <td>92.5</td>\n",
       "      <td>144.5</td>\n",
       "      <td>0.0</td>\n",
       "      <td>145.0</td>\n",
       "      <td>1.0</td>\n",
       "      <td>0.0</td>\n",
       "      <td>0.0</td>\n",
       "    </tr>\n",
       "    <tr>\n",
       "      <th>317</th>\n",
       "      <td>1028911.0</td>\n",
       "      <td>1.0</td>\n",
       "      <td>0.858</td>\n",
       "      <td>0.0720</td>\n",
       "      <td>0.425356</td>\n",
       "      <td>63.0</td>\n",
       "      <td>65.0</td>\n",
       "      <td>31.6839</td>\n",
       "      <td>0.0</td>\n",
       "      <td>0.0</td>\n",
       "      <td>76.0</td>\n",
       "      <td>163.5</td>\n",
       "      <td>0.0</td>\n",
       "      <td>130.0</td>\n",
       "      <td>1.0</td>\n",
       "      <td>0.0</td>\n",
       "      <td>0.0</td>\n",
       "    </tr>\n",
       "  </tbody>\n",
       "</table>\n",
       "</div>"
      ],
      "text/plain": [
       "           eid  sex  RRrest  Tperest       QTc  QRS_rest   Age      BMI  Diab  \\\n",
       "199  1017854.0  1.0   0.807   0.0665  0.387941      50.0  43.0  32.2029   0.0   \n",
       "256  1022683.0  0.0   0.906   0.0715  0.419188      76.0  58.0  26.7149   0.0   \n",
       "310  1028491.0  0.0   0.854   0.0735  0.430679      69.0  62.0  28.7415   0.0   \n",
       "314  1028813.0  1.0   0.718   0.0570  0.395941      70.0  65.0  29.9921   0.0   \n",
       "317  1028911.0  1.0   0.858   0.0720  0.425356      63.0  65.0  31.6839   0.0   \n",
       "\n",
       "     smoke   DBP    SBP  chol     PR   AF  Arr  Disease  \n",
       "199    0.0  81.0  131.0   0.0  146.0  1.0  0.0      0.0  \n",
       "256    1.0  98.0  151.5   0.0  162.0  1.0  0.0      0.0  \n",
       "310    1.0  91.5  170.0   0.0  136.0  1.0  0.0      0.0  \n",
       "314    0.0  92.5  144.5   0.0  145.0  1.0  0.0      0.0  \n",
       "317    0.0  76.0  163.5   0.0  130.0  1.0  0.0      0.0  "
      ]
     },
     "execution_count": 117,
     "metadata": {},
     "output_type": "execute_result"
    }
   ],
   "source": [
    "unhealthy_df_no_outliers.head()"
   ]
  },
  {
   "cell_type": "code",
   "execution_count": 133,
   "metadata": {},
   "outputs": [],
   "source": [
    "### setting aside test sample so the classifier doesn't perform data leakage"
   ]
  },
  {
   "cell_type": "code",
   "execution_count": 134,
   "metadata": {},
   "outputs": [],
   "source": [
    "choosing_samples_AF = unhealthy_df_no_outliers[unhealthy_df_no_outliers['AF'] == 1]\n",
    "choosing_samples_Arr =  unhealthy_df_no_outliers[unhealthy_df_no_outliers['Arr'] == 1]\n",
    "\n",
    "test_AF_samples = choosing_samples_AF.sample(10, replace=False, random_state = 123)\n",
    "test_Arr_samples = choosing_samples_Arr.sample(10, replace=False, random_state = 123)"
   ]
  },
  {
   "cell_type": "code",
   "execution_count": 135,
   "metadata": {},
   "outputs": [],
   "source": [
    "test_sample = pd.concat([test_AF_samples, test_Arr_samples])"
   ]
  },
  {
   "cell_type": "code",
   "execution_count": 136,
   "metadata": {},
   "outputs": [],
   "source": [
    "#test_sample = without_outliers.sample(100, replace=False, random_state = 123)\n",
    "j1 = test_sample.set_index('eid').index\n",
    "j2 = unhealthy_df_no_outliers.set_index('eid').index\n",
    "j3 = unhealthy_df_no_outliers.set_index('eid').index\n",
    "sample_to_use = unhealthy_df_no_outliers[~j2.isin(j1)]\n",
    "sample_to_use_withlabels =  unhealthy_df_no_outliers[~j3.isin(j1)]"
   ]
  },
  {
   "cell_type": "code",
   "execution_count": 137,
   "metadata": {},
   "outputs": [],
   "source": [
    "## adding smote to the picture"
   ]
  },
  {
   "cell_type": "code",
   "execution_count": 138,
   "metadata": {},
   "outputs": [],
   "source": [
    "AF_data = sample_to_use.drop(columns=['Arr'], axis=1) # data with only the AF label\n",
    "Arr_data = sample_to_use.drop(columns=['AF'], axis=1) # data with only the Arr label"
   ]
  },
  {
   "cell_type": "code",
   "execution_count": 139,
   "metadata": {},
   "outputs": [],
   "source": [
    "arr_smote_x = Arr_data.loc[:,Arr_data.columns != 'Arr']\n",
    "arr_smote_y = Arr_data['Arr']\n",
    "\n",
    "oversample_arr = SMOTENC(sampling_strategy='auto', random_state=42, categorical_features=[1,8,9,12])\n",
    "arr_smote_x, arr_smote_y = oversample_arr.fit_resample(arr_smote_x, arr_smote_y)"
   ]
  },
  {
   "cell_type": "code",
   "execution_count": 140,
   "metadata": {},
   "outputs": [
    {
     "data": {
      "text/plain": [
       "Counter({0.0: 1161, 1.0: 1161})"
      ]
     },
     "execution_count": 140,
     "metadata": {},
     "output_type": "execute_result"
    }
   ],
   "source": [
    "Counter(arr_smote_y)"
   ]
  },
  {
   "cell_type": "code",
   "execution_count": 141,
   "metadata": {},
   "outputs": [
    {
     "data": {
      "text/html": [
       "<div>\n",
       "<style scoped>\n",
       "    .dataframe tbody tr th:only-of-type {\n",
       "        vertical-align: middle;\n",
       "    }\n",
       "\n",
       "    .dataframe tbody tr th {\n",
       "        vertical-align: top;\n",
       "    }\n",
       "\n",
       "    .dataframe thead th {\n",
       "        text-align: right;\n",
       "    }\n",
       "</style>\n",
       "<table border=\"1\" class=\"dataframe\">\n",
       "  <thead>\n",
       "    <tr style=\"text-align: right;\">\n",
       "      <th></th>\n",
       "      <th>eid</th>\n",
       "      <th>sex</th>\n",
       "      <th>RRrest</th>\n",
       "      <th>Tperest</th>\n",
       "      <th>QTc</th>\n",
       "      <th>QRS_rest</th>\n",
       "      <th>Age</th>\n",
       "      <th>BMI</th>\n",
       "      <th>Diab</th>\n",
       "      <th>smoke</th>\n",
       "      <th>DBP</th>\n",
       "      <th>SBP</th>\n",
       "      <th>chol</th>\n",
       "      <th>PR</th>\n",
       "      <th>Arr</th>\n",
       "      <th>Disease</th>\n",
       "    </tr>\n",
       "  </thead>\n",
       "  <tbody>\n",
       "  </tbody>\n",
       "</table>\n",
       "</div>"
      ],
      "text/plain": [
       "Empty DataFrame\n",
       "Columns: [eid, sex, RRrest, Tperest, QTc, QRS_rest, Age, BMI, Diab, smoke, DBP, SBP, chol, PR, Arr, Disease]\n",
       "Index: []"
      ]
     },
     "execution_count": 141,
     "metadata": {},
     "output_type": "execute_result"
    }
   ],
   "source": [
    "Arr_data[Arr_data['eid'] == 1000547]"
   ]
  },
  {
   "cell_type": "code",
   "execution_count": 142,
   "metadata": {},
   "outputs": [
    {
     "data": {
      "text/html": [
       "<div>\n",
       "<style scoped>\n",
       "    .dataframe tbody tr th:only-of-type {\n",
       "        vertical-align: middle;\n",
       "    }\n",
       "\n",
       "    .dataframe tbody tr th {\n",
       "        vertical-align: top;\n",
       "    }\n",
       "\n",
       "    .dataframe thead th {\n",
       "        text-align: right;\n",
       "    }\n",
       "</style>\n",
       "<table border=\"1\" class=\"dataframe\">\n",
       "  <thead>\n",
       "    <tr style=\"text-align: right;\">\n",
       "      <th></th>\n",
       "      <th>eid</th>\n",
       "      <th>sex</th>\n",
       "      <th>RRrest</th>\n",
       "      <th>Tperest</th>\n",
       "      <th>QTc</th>\n",
       "      <th>QRS_rest</th>\n",
       "      <th>Age</th>\n",
       "      <th>BMI</th>\n",
       "      <th>Diab</th>\n",
       "      <th>smoke</th>\n",
       "      <th>DBP</th>\n",
       "      <th>SBP</th>\n",
       "      <th>chol</th>\n",
       "      <th>PR</th>\n",
       "      <th>Disease</th>\n",
       "    </tr>\n",
       "  </thead>\n",
       "  <tbody>\n",
       "    <tr>\n",
       "      <th>2317</th>\n",
       "      <td>5.278754e+06</td>\n",
       "      <td>1.0</td>\n",
       "      <td>0.780334</td>\n",
       "      <td>0.055577</td>\n",
       "      <td>0.395773</td>\n",
       "      <td>59.521514</td>\n",
       "      <td>62.972148</td>\n",
       "      <td>28.167024</td>\n",
       "      <td>0.0</td>\n",
       "      <td>1.0</td>\n",
       "      <td>86.302535</td>\n",
       "      <td>144.513926</td>\n",
       "      <td>0.0</td>\n",
       "      <td>113.253169</td>\n",
       "      <td>1.0</td>\n",
       "    </tr>\n",
       "    <tr>\n",
       "      <th>2318</th>\n",
       "      <td>3.651347e+06</td>\n",
       "      <td>0.0</td>\n",
       "      <td>1.019386</td>\n",
       "      <td>0.066500</td>\n",
       "      <td>0.389346</td>\n",
       "      <td>76.737433</td>\n",
       "      <td>65.490333</td>\n",
       "      <td>22.997046</td>\n",
       "      <td>0.0</td>\n",
       "      <td>1.0</td>\n",
       "      <td>73.129350</td>\n",
       "      <td>164.600350</td>\n",
       "      <td>0.0</td>\n",
       "      <td>142.779967</td>\n",
       "      <td>1.0</td>\n",
       "    </tr>\n",
       "    <tr>\n",
       "      <th>2319</th>\n",
       "      <td>2.289487e+06</td>\n",
       "      <td>1.0</td>\n",
       "      <td>0.686851</td>\n",
       "      <td>0.052896</td>\n",
       "      <td>0.389640</td>\n",
       "      <td>79.954312</td>\n",
       "      <td>63.896304</td>\n",
       "      <td>26.529093</td>\n",
       "      <td>0.0</td>\n",
       "      <td>1.0</td>\n",
       "      <td>75.827772</td>\n",
       "      <td>130.649384</td>\n",
       "      <td>0.0</td>\n",
       "      <td>141.414785</td>\n",
       "      <td>1.0</td>\n",
       "    </tr>\n",
       "    <tr>\n",
       "      <th>2320</th>\n",
       "      <td>2.997053e+06</td>\n",
       "      <td>1.0</td>\n",
       "      <td>0.917429</td>\n",
       "      <td>0.065301</td>\n",
       "      <td>0.365571</td>\n",
       "      <td>86.836684</td>\n",
       "      <td>64.928560</td>\n",
       "      <td>26.807199</td>\n",
       "      <td>0.0</td>\n",
       "      <td>0.0</td>\n",
       "      <td>78.535720</td>\n",
       "      <td>139.010218</td>\n",
       "      <td>0.0</td>\n",
       "      <td>142.275461</td>\n",
       "      <td>1.0</td>\n",
       "    </tr>\n",
       "    <tr>\n",
       "      <th>2321</th>\n",
       "      <td>5.011799e+06</td>\n",
       "      <td>1.0</td>\n",
       "      <td>0.794632</td>\n",
       "      <td>0.067164</td>\n",
       "      <td>0.391727</td>\n",
       "      <td>83.336264</td>\n",
       "      <td>63.289482</td>\n",
       "      <td>30.834119</td>\n",
       "      <td>0.0</td>\n",
       "      <td>1.0</td>\n",
       "      <td>87.027786</td>\n",
       "      <td>136.859655</td>\n",
       "      <td>0.0</td>\n",
       "      <td>149.046782</td>\n",
       "      <td>1.0</td>\n",
       "    </tr>\n",
       "  </tbody>\n",
       "</table>\n",
       "</div>"
      ],
      "text/plain": [
       "               eid  sex    RRrest   Tperest       QTc   QRS_rest        Age  \\\n",
       "2317  5.278754e+06  1.0  0.780334  0.055577  0.395773  59.521514  62.972148   \n",
       "2318  3.651347e+06  0.0  1.019386  0.066500  0.389346  76.737433  65.490333   \n",
       "2319  2.289487e+06  1.0  0.686851  0.052896  0.389640  79.954312  63.896304   \n",
       "2320  2.997053e+06  1.0  0.917429  0.065301  0.365571  86.836684  64.928560   \n",
       "2321  5.011799e+06  1.0  0.794632  0.067164  0.391727  83.336264  63.289482   \n",
       "\n",
       "            BMI  Diab  smoke        DBP         SBP  chol          PR  Disease  \n",
       "2317  28.167024   0.0    1.0  86.302535  144.513926   0.0  113.253169      1.0  \n",
       "2318  22.997046   0.0    1.0  73.129350  164.600350   0.0  142.779967      1.0  \n",
       "2319  26.529093   0.0    1.0  75.827772  130.649384   0.0  141.414785      1.0  \n",
       "2320  26.807199   0.0    0.0  78.535720  139.010218   0.0  142.275461      1.0  \n",
       "2321  30.834119   0.0    1.0  87.027786  136.859655   0.0  149.046782      1.0  "
      ]
     },
     "execution_count": 142,
     "metadata": {},
     "output_type": "execute_result"
    }
   ],
   "source": [
    "arr_smote_x.tail()"
   ]
  },
  {
   "cell_type": "code",
   "execution_count": 143,
   "metadata": {},
   "outputs": [],
   "source": [
    "af_smote_x = AF_data.loc[:,AF_data.columns != 'AF']\n",
    "af_smote_y = AF_data['AF']\n",
    "\n",
    "oversample_af = SMOTENC(sampling_strategy='auto', random_state=42, categorical_features=[1,8,9,12])\n",
    "af_smote_x, af_smote_y = oversample_af.fit_resample(af_smote_x, af_smote_y)"
   ]
  },
  {
   "cell_type": "code",
   "execution_count": 144,
   "metadata": {},
   "outputs": [
    {
     "data": {
      "text/plain": [
       "Counter({1.0: 1161, 0.0: 1161})"
      ]
     },
     "execution_count": 144,
     "metadata": {},
     "output_type": "execute_result"
    }
   ],
   "source": [
    "Counter(af_smote_y)"
   ]
  },
  {
   "cell_type": "code",
   "execution_count": 145,
   "metadata": {},
   "outputs": [],
   "source": [
    "arr_smote_x['Arr'] = arr_smote_y\n",
    "af_smote_x['AF'] = af_smote_y"
   ]
  },
  {
   "cell_type": "code",
   "execution_count": 146,
   "metadata": {},
   "outputs": [],
   "source": [
    "AF_only = af_smote_x[af_smote_x['AF'] == 1] # data with only positive labels of AF\n",
    "Arr_only = arr_smote_x[arr_smote_x['Arr'] ==1] # data with only positive labels of Arr"
   ]
  },
  {
   "cell_type": "code",
   "execution_count": 147,
   "metadata": {},
   "outputs": [],
   "source": [
    "with_smote_df = pd.concat([Arr_only,AF_only,healthy_patients])"
   ]
  },
  {
   "cell_type": "code",
   "execution_count": 148,
   "metadata": {},
   "outputs": [],
   "source": [
    "with_smote_df.loc[(with_smote_df['Arr'] == 1) | (with_smote_df['AF'] == 1), 'Disease'] = 1\n",
    "with_smote_df.loc[(with_smote_df['Arr'] == 0) & (with_smote_df['AF'] == 0), 'Disease'] = 0"
   ]
  },
  {
   "cell_type": "code",
   "execution_count": 149,
   "metadata": {},
   "outputs": [],
   "source": [
    "test_sample.loc[(test_sample['Arr'] == 1) | (test_sample['AF'] == 1), 'Disease'] = 0\n",
    "test_sample.loc[(test_sample['Arr'] == 0) & (test_sample['AF'] == 0), 'Disease'] = 1"
   ]
  },
  {
   "cell_type": "code",
   "execution_count": 150,
   "metadata": {},
   "outputs": [],
   "source": [
    "only_AF_Arr = with_smote_df[with_smote_df['Disease'] == 1]"
   ]
  },
  {
   "cell_type": "code",
   "execution_count": 152,
   "metadata": {},
   "outputs": [
    {
     "data": {
      "text/plain": [
       "(2322, 17)"
      ]
     },
     "execution_count": 152,
     "metadata": {},
     "output_type": "execute_result"
    }
   ],
   "source": [
    "only_AF_Arr.shape"
   ]
  },
  {
   "cell_type": "code",
   "execution_count": 153,
   "metadata": {},
   "outputs": [
    {
     "data": {
      "text/html": [
       "<div>\n",
       "<style scoped>\n",
       "    .dataframe tbody tr th:only-of-type {\n",
       "        vertical-align: middle;\n",
       "    }\n",
       "\n",
       "    .dataframe tbody tr th {\n",
       "        vertical-align: top;\n",
       "    }\n",
       "\n",
       "    .dataframe thead th {\n",
       "        text-align: right;\n",
       "    }\n",
       "</style>\n",
       "<table border=\"1\" class=\"dataframe\">\n",
       "  <thead>\n",
       "    <tr style=\"text-align: right;\">\n",
       "      <th></th>\n",
       "      <th>eid</th>\n",
       "      <th>sex</th>\n",
       "      <th>RRrest</th>\n",
       "      <th>Tperest</th>\n",
       "      <th>QTc</th>\n",
       "      <th>QRS_rest</th>\n",
       "      <th>Age</th>\n",
       "      <th>BMI</th>\n",
       "      <th>Diab</th>\n",
       "      <th>smoke</th>\n",
       "      <th>DBP</th>\n",
       "      <th>SBP</th>\n",
       "      <th>chol</th>\n",
       "      <th>PR</th>\n",
       "      <th>Disease</th>\n",
       "      <th>Arr</th>\n",
       "      <th>AF</th>\n",
       "    </tr>\n",
       "  </thead>\n",
       "  <tbody>\n",
       "    <tr>\n",
       "      <th>11</th>\n",
       "      <td>1071151.0</td>\n",
       "      <td>1.0</td>\n",
       "      <td>0.904</td>\n",
       "      <td>0.0520</td>\n",
       "      <td>0.369693</td>\n",
       "      <td>77.0</td>\n",
       "      <td>44.0</td>\n",
       "      <td>23.2208</td>\n",
       "      <td>0.0</td>\n",
       "      <td>0.0</td>\n",
       "      <td>89.5</td>\n",
       "      <td>142.5</td>\n",
       "      <td>0.0</td>\n",
       "      <td>139.0</td>\n",
       "      <td>1.0</td>\n",
       "      <td>1.0</td>\n",
       "      <td>NaN</td>\n",
       "    </tr>\n",
       "    <tr>\n",
       "      <th>37</th>\n",
       "      <td>1204807.0</td>\n",
       "      <td>1.0</td>\n",
       "      <td>0.884</td>\n",
       "      <td>0.0755</td>\n",
       "      <td>0.379701</td>\n",
       "      <td>83.0</td>\n",
       "      <td>47.0</td>\n",
       "      <td>28.4568</td>\n",
       "      <td>0.0</td>\n",
       "      <td>0.0</td>\n",
       "      <td>68.5</td>\n",
       "      <td>115.0</td>\n",
       "      <td>0.0</td>\n",
       "      <td>126.0</td>\n",
       "      <td>1.0</td>\n",
       "      <td>1.0</td>\n",
       "      <td>NaN</td>\n",
       "    </tr>\n",
       "    <tr>\n",
       "      <th>56</th>\n",
       "      <td>1307201.0</td>\n",
       "      <td>1.0</td>\n",
       "      <td>0.892</td>\n",
       "      <td>0.0545</td>\n",
       "      <td>0.382759</td>\n",
       "      <td>59.0</td>\n",
       "      <td>66.0</td>\n",
       "      <td>32.7280</td>\n",
       "      <td>0.0</td>\n",
       "      <td>0.0</td>\n",
       "      <td>94.0</td>\n",
       "      <td>160.0</td>\n",
       "      <td>0.0</td>\n",
       "      <td>127.0</td>\n",
       "      <td>1.0</td>\n",
       "      <td>1.0</td>\n",
       "      <td>NaN</td>\n",
       "    </tr>\n",
       "    <tr>\n",
       "      <th>89</th>\n",
       "      <td>1418278.0</td>\n",
       "      <td>1.0</td>\n",
       "      <td>0.841</td>\n",
       "      <td>0.0585</td>\n",
       "      <td>0.380564</td>\n",
       "      <td>69.0</td>\n",
       "      <td>69.0</td>\n",
       "      <td>23.7582</td>\n",
       "      <td>0.0</td>\n",
       "      <td>1.0</td>\n",
       "      <td>79.5</td>\n",
       "      <td>119.0</td>\n",
       "      <td>0.0</td>\n",
       "      <td>145.0</td>\n",
       "      <td>1.0</td>\n",
       "      <td>1.0</td>\n",
       "      <td>NaN</td>\n",
       "    </tr>\n",
       "    <tr>\n",
       "      <th>103</th>\n",
       "      <td>1471642.0</td>\n",
       "      <td>0.0</td>\n",
       "      <td>0.941</td>\n",
       "      <td>0.0590</td>\n",
       "      <td>0.383485</td>\n",
       "      <td>50.0</td>\n",
       "      <td>44.0</td>\n",
       "      <td>21.5198</td>\n",
       "      <td>0.0</td>\n",
       "      <td>1.0</td>\n",
       "      <td>78.0</td>\n",
       "      <td>131.0</td>\n",
       "      <td>0.0</td>\n",
       "      <td>144.0</td>\n",
       "      <td>1.0</td>\n",
       "      <td>1.0</td>\n",
       "      <td>NaN</td>\n",
       "    </tr>\n",
       "  </tbody>\n",
       "</table>\n",
       "</div>"
      ],
      "text/plain": [
       "           eid  sex  RRrest  Tperest       QTc  QRS_rest   Age      BMI  Diab  \\\n",
       "11   1071151.0  1.0   0.904   0.0520  0.369693      77.0  44.0  23.2208   0.0   \n",
       "37   1204807.0  1.0   0.884   0.0755  0.379701      83.0  47.0  28.4568   0.0   \n",
       "56   1307201.0  1.0   0.892   0.0545  0.382759      59.0  66.0  32.7280   0.0   \n",
       "89   1418278.0  1.0   0.841   0.0585  0.380564      69.0  69.0  23.7582   0.0   \n",
       "103  1471642.0  0.0   0.941   0.0590  0.383485      50.0  44.0  21.5198   0.0   \n",
       "\n",
       "     smoke   DBP    SBP  chol     PR  Disease  Arr  AF  \n",
       "11     0.0  89.5  142.5   0.0  139.0      1.0  1.0 NaN  \n",
       "37     0.0  68.5  115.0   0.0  126.0      1.0  1.0 NaN  \n",
       "56     0.0  94.0  160.0   0.0  127.0      1.0  1.0 NaN  \n",
       "89     1.0  79.5  119.0   0.0  145.0      1.0  1.0 NaN  \n",
       "103    1.0  78.0  131.0   0.0  144.0      1.0  1.0 NaN  "
      ]
     },
     "execution_count": 153,
     "metadata": {},
     "output_type": "execute_result"
    }
   ],
   "source": [
    "only_AF_Arr.head()"
   ]
  },
  {
   "cell_type": "code",
   "execution_count": 154,
   "metadata": {},
   "outputs": [
    {
     "name": "stderr",
     "output_type": "stream",
     "text": [
      "<ipython-input-154-4f35b7be5c4d>:1: SettingWithCopyWarning: \n",
      "A value is trying to be set on a copy of a slice from a DataFrame.\n",
      "Try using .loc[row_indexer,col_indexer] = value instead\n",
      "\n",
      "See the caveats in the documentation: https://pandas.pydata.org/pandas-docs/stable/user_guide/indexing.html#returning-a-view-versus-a-copy\n",
      "  only_AF_Arr['AF'] = only_AF_Arr['AF'].fillna(0)\n",
      "<ipython-input-154-4f35b7be5c4d>:2: SettingWithCopyWarning: \n",
      "A value is trying to be set on a copy of a slice from a DataFrame.\n",
      "Try using .loc[row_indexer,col_indexer] = value instead\n",
      "\n",
      "See the caveats in the documentation: https://pandas.pydata.org/pandas-docs/stable/user_guide/indexing.html#returning-a-view-versus-a-copy\n",
      "  only_AF_Arr['Arr'] = only_AF_Arr['Arr'].fillna(0)\n"
     ]
    }
   ],
   "source": [
    "only_AF_Arr['AF'] = only_AF_Arr['AF'].fillna(0)\n",
    "only_AF_Arr['Arr'] = only_AF_Arr['Arr'].fillna(0)"
   ]
  },
  {
   "cell_type": "code",
   "execution_count": 155,
   "metadata": {},
   "outputs": [],
   "source": [
    "### correcting diease label, 0 for AF, 1 for Arr"
   ]
  },
  {
   "cell_type": "code",
   "execution_count": 156,
   "metadata": {},
   "outputs": [
    {
     "name": "stderr",
     "output_type": "stream",
     "text": [
      "C:\\Users\\user\\anaconda3\\lib\\site-packages\\pandas\\core\\indexing.py:670: SettingWithCopyWarning: \n",
      "A value is trying to be set on a copy of a slice from a DataFrame\n",
      "\n",
      "See the caveats in the documentation: https://pandas.pydata.org/pandas-docs/stable/user_guide/indexing.html#returning-a-view-versus-a-copy\n",
      "  iloc._setitem_with_indexer(indexer, value)\n",
      "<ipython-input-156-a03bf1ec824b>:1: SettingWithCopyWarning: \n",
      "A value is trying to be set on a copy of a slice from a DataFrame\n",
      "\n",
      "See the caveats in the documentation: https://pandas.pydata.org/pandas-docs/stable/user_guide/indexing.html#returning-a-view-versus-a-copy\n",
      "  only_AF_Arr.loc[(only_AF_Arr['Arr'] == 0) | (only_AF_Arr['AF'] == 1), 'Disease'] = 0\n",
      "C:\\Users\\user\\anaconda3\\lib\\site-packages\\pandas\\core\\indexing.py:670: SettingWithCopyWarning: \n",
      "A value is trying to be set on a copy of a slice from a DataFrame\n",
      "\n",
      "See the caveats in the documentation: https://pandas.pydata.org/pandas-docs/stable/user_guide/indexing.html#returning-a-view-versus-a-copy\n",
      "  iloc._setitem_with_indexer(indexer, value)\n",
      "<ipython-input-156-a03bf1ec824b>:2: SettingWithCopyWarning: \n",
      "A value is trying to be set on a copy of a slice from a DataFrame\n",
      "\n",
      "See the caveats in the documentation: https://pandas.pydata.org/pandas-docs/stable/user_guide/indexing.html#returning-a-view-versus-a-copy\n",
      "  only_AF_Arr.loc[(only_AF_Arr['Arr'] == 1) & (only_AF_Arr['AF'] == 0), 'Disease'] = 1\n"
     ]
    }
   ],
   "source": [
    "only_AF_Arr.loc[(only_AF_Arr['Arr'] == 0) | (only_AF_Arr['AF'] == 1), 'Disease'] = 0\n",
    "only_AF_Arr.loc[(only_AF_Arr['Arr'] == 1) & (only_AF_Arr['AF'] == 0), 'Disease'] = 1"
   ]
  },
  {
   "cell_type": "code",
   "execution_count": 157,
   "metadata": {},
   "outputs": [],
   "source": [
    "test_sample.loc[(test_sample['Arr'] == 0) | (test_sample['AF'] == 1), 'Disease'] = 0\n",
    "test_sample.loc[(test_sample['Arr'] == 1) & (test_sample['AF'] == 0), 'Disease'] = 1"
   ]
  },
  {
   "cell_type": "code",
   "execution_count": 158,
   "metadata": {},
   "outputs": [
    {
     "data": {
      "text/plain": [
       "0.0    1161\n",
       "1.0    1161\n",
       "Name: Disease, dtype: int64"
      ]
     },
     "execution_count": 158,
     "metadata": {},
     "output_type": "execute_result"
    }
   ],
   "source": [
    "only_AF_Arr['Disease'].value_counts()"
   ]
  },
  {
   "cell_type": "code",
   "execution_count": 159,
   "metadata": {},
   "outputs": [],
   "source": [
    "only_AF_Arr = only_AF_Arr.drop(columns=['AF', 'Arr'])\n",
    "X = only_AF_Arr.loc[:, ~only_AF_Arr.columns.isin(['Disease', 'eid', 'sex'])]\n",
    "y = only_AF_Arr['Disease']"
   ]
  },
  {
   "cell_type": "code",
   "execution_count": 160,
   "metadata": {},
   "outputs": [],
   "source": [
    "test_sample = test_sample.drop(columns=['AF', 'Arr'])\n",
    "X_test = test_sample.loc[:, ~test_sample.columns.isin(['Disease','eid', 'sex'])]\n",
    "y_test = test_sample['Disease']"
   ]
  },
  {
   "cell_type": "code",
   "execution_count": 323,
   "metadata": {},
   "outputs": [],
   "source": [
    "\n",
    "estimators = []\n",
    "\n",
    "model1 = xgb.XGBClassifier(objective='binary:logistic', subsample=0.75,  \n",
    "                          n_estimators=100, colsample_bytree = 0.99, learning_rate = 1,\n",
    "                max_depth = 10,  gamma=5, alpha = 1, seed=123, use_label_encoder=False, eval_metric='error')\n",
    "\n",
    "estimators.append(('XGBoost', model1))\n",
    "estimators.append(('bayes', GaussianNB()))\n",
    "estimators.append(('GradientDescent' , SGDClassifier(loss=\"modified_huber\", penalty=\"elasticnet\", max_iter=500)))\n",
    "ensemble = VotingClassifier(estimators, voting = 'soft')\n"
   ]
  },
  {
   "cell_type": "code",
   "execution_count": 324,
   "metadata": {},
   "outputs": [],
   "source": [
    "ensemble.fit(X, y)\n",
    "y_pred = ensemble.predict(X_test)"
   ]
  },
  {
   "cell_type": "code",
   "execution_count": 325,
   "metadata": {},
   "outputs": [
    {
     "data": {
      "text/plain": [
       "1.0    10\n",
       "0.0    10\n",
       "Name: Disease, dtype: int64"
      ]
     },
     "execution_count": 325,
     "metadata": {},
     "output_type": "execute_result"
    }
   ],
   "source": [
    "y_test.value_counts()"
   ]
  },
  {
   "cell_type": "code",
   "execution_count": 326,
   "metadata": {},
   "outputs": [
    {
     "data": {
      "text/plain": [
       "Counter({0.0: 14, 1.0: 6})"
      ]
     },
     "execution_count": 326,
     "metadata": {},
     "output_type": "execute_result"
    }
   ],
   "source": [
    "Counter(y_pred)"
   ]
  },
  {
   "cell_type": "code",
   "execution_count": 327,
   "metadata": {},
   "outputs": [
    {
     "name": "stdout",
     "output_type": "stream",
     "text": [
      "f1_score: 0.625\n",
      "Precision: 0.833\n",
      "Recall: 0.500\n"
     ]
    }
   ],
   "source": [
    "from sklearn.metrics import f1_score\n",
    "f1_score = f1_score(y_test, y_pred)\n",
    "print('f1_score: %.3f' % f1_score)\n",
    "from sklearn.metrics import precision_score\n",
    "precision = precision_score(y_test, y_pred)\n",
    "print('Precision: %.3f' % precision)\n",
    "\n",
    "from sklearn.metrics import recall_score\n",
    "recall = recall_score(y_test, y_pred, average='binary')\n",
    "print('Recall: %.3f' % recall)"
   ]
  },
  {
   "cell_type": "code",
   "execution_count": 328,
   "metadata": {},
   "outputs": [
    {
     "data": {
      "text/plain": [
       "<sklearn.metrics._plot.confusion_matrix.ConfusionMatrixDisplay at 0x1fc61f1d280>"
      ]
     },
     "execution_count": 328,
     "metadata": {},
     "output_type": "execute_result"
    },
    {
     "data": {
      "image/png": "[encoded data removed]",
      "text/plain": [
       "<Figure size 432x288 with 2 Axes>"
      ]
     },
     "metadata": {
      "needs_background": "light"
     },
     "output_type": "display_data"
    }
   ],
   "source": [
    "plot_confusion_matrix(ensemble, X_test, y_test) "
   ]
  },
  {
   "cell_type": "code",
   "execution_count": 329,
   "metadata": {},
   "outputs": [
    {
     "name": "stdout",
     "output_type": "stream",
     "text": [
      "              precision    recall  f1-score   support\n",
      "\n",
      "         0.0       0.64      0.90      0.75        10\n",
      "         1.0       0.83      0.50      0.62        10\n",
      "\n",
      "    accuracy                           0.70        20\n",
      "   macro avg       0.74      0.70      0.69        20\n",
      "weighted avg       0.74      0.70      0.69        20\n",
      "\n"
     ]
    }
   ],
   "source": [
    "from sklearn.metrics import precision_recall_fscore_support,classification_report,confusion_matrix, precision_recall_curve\n",
    "print(classification_report(y_test, y_pred))"
   ]
  },
  {
   "cell_type": "code",
   "execution_count": null,
   "metadata": {},
   "outputs": [],
   "source": []
  },
  {
   "cell_type": "code",
   "execution_count": null,
   "metadata": {},
   "outputs": [],
   "source": []
  }
 ],
 "metadata": {
  "kernelspec": {
   "display_name": "Python 3",
   "language": "python",
   "name": "python3"
  },
  "language_info": {
   "codemirror_mode": {
    "name": "ipython",
    "version": 3
   },
   "file_extension": ".py",
   "mimetype": "text/x-python",
   "name": "python",
   "nbconvert_exporter": "python",
   "pygments_lexer": "ipython3",
   "version": "3.8.5"
  }
 },
 "nbformat": 4,
 "nbformat_minor": 4
}
