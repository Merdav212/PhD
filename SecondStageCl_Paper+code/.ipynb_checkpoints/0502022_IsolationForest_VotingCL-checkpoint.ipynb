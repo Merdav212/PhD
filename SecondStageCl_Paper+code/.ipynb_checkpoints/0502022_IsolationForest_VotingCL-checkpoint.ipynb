{
 "cells": [
  {
   "cell_type": "code",
   "execution_count": 1,
   "metadata": {
    "jupyter": {
     "source_hidden": true
    }
   },
   "outputs": [],
   "source": [
    "from collections import Counter\n",
    "from matplotlib import pyplot\n",
    "from numpy import where\n",
    "\n",
    "import pandas as pd\n",
    "import numpy as np\n",
    "import matplotlib.pyplot as plt\n",
    "%matplotlib inline\n",
    "from sklearn.linear_model import LinearRegression\n",
    "from sklearn.model_selection import train_test_split \n",
    "import xgboost as xgb\n",
    "from sklearn.model_selection import train_test_split \n",
    "from sklearn.metrics import accuracy_score\n",
    "from sklearn.feature_selection import SelectFromModel\n",
    "from sklearn.model_selection import cross_val_score\n",
    "from sklearn.feature_selection import SelectKBest\n",
    "from sklearn.feature_selection import f_classif\n",
    "from sklearn.model_selection import RepeatedStratifiedKFold\n",
    "from sklearn.model_selection import StratifiedKFold \n",
    "from sklearn.model_selection import GridSearchCV\n",
    "from sklearn.model_selection import RandomizedSearchCV\n",
    "from sklearn.metrics import mean_squared_error\n",
    "from sklearn.metrics import roc_auc_score\n",
    "from sklearn.metrics import plot_roc_curve\n",
    "from numpy import loadtxt\n",
    "from numpy import sort\n",
    "from numpy import mean\n",
    "from sklearn.metrics import cohen_kappa_score\n",
    "#from autoimpute.imputations import MultipleImputer\n",
    "from sklearn.experimental import enable_iterative_imputer\n",
    "from sklearn.impute import IterativeImputer\n",
    "\n",
    "\n",
    "from sklearn.impute import SimpleImputer \n",
    "from sklearn.metrics import plot_confusion_matrix\n",
    "from scipy.stats import pearsonr\n",
    "from scipy.stats import spearmanr\n",
    "from imblearn.over_sampling import SMOTE\n",
    "from imblearn.over_sampling import SMOTENC"
   ]
  },
  {
   "cell_type": "markdown",
   "metadata": {},
   "source": [
    "### Reading the data"
   ]
  },
  {
   "cell_type": "code",
   "execution_count": 2,
   "metadata": {},
   "outputs": [],
   "source": [
    "df = pd.read_excel(\"Updated_UKBioBank.xlsx\")"
   ]
  },
  {
   "cell_type": "code",
   "execution_count": 3,
   "metadata": {},
   "outputs": [],
   "source": [
    "### removing the redundant column as advised by collaborators\n",
    "df = df.iloc[:, df.columns != 'QTrest']"
   ]
  },
  {
   "cell_type": "markdown",
   "metadata": {},
   "source": [
    "### Imputing values using SimpleImputer"
   ]
  },
  {
   "cell_type": "code",
   "execution_count": 4,
   "metadata": {},
   "outputs": [],
   "source": [
    "imp = SimpleImputer(missing_values=np.nan, strategy=\"most_frequent\")\n",
    "Imputed_df = imp.fit_transform(df)\n",
    "# # "
   ]
  },
  {
   "cell_type": "code",
   "execution_count": 5,
   "metadata": {},
   "outputs": [],
   "source": [
    "df = pd.DataFrame(Imputed_df)\n",
    "df = df.rename(columns={0: \"eid\", 1: \"sex\", 2:'RRrest', 3:'Tperest', 4:'QTc', 5:'QRS_rest', 6:'Age',\n",
    "                       7:'BMI', 8:'Diab', 9:'smoke', 10:'DBP', 11:'SBP', 12:'chol', 13:'PR', 14:'AF', 15:'Arr'})"
   ]
  },
  {
   "cell_type": "code",
   "execution_count": 6,
   "metadata": {},
   "outputs": [
    {
     "data": {
      "text/plain": [
       "Index(['eid', 'sex', 'RRrest', 'Tperest', 'QTc', 'QRS_rest', 'Age', 'BMI',\n",
       "       'Diab', 'smoke', 'DBP', 'SBP', 'chol', 'PR', 'AF', 'Arr'],\n",
       "      dtype='object')"
      ]
     },
     "execution_count": 6,
     "metadata": {},
     "output_type": "execute_result"
    }
   ],
   "source": [
    "df.columns"
   ]
  },
  {
   "cell_type": "code",
   "execution_count": 7,
   "metadata": {},
   "outputs": [],
   "source": [
    "df_no_overlap = df[~((df['AF']==1) & (df['Arr']==1))] # dataset where the patients that have both cases have been removed"
   ]
  },
  {
   "cell_type": "code",
   "execution_count": 8,
   "metadata": {},
   "outputs": [],
   "source": [
    "healthy_patients = df_no_overlap[((df_no_overlap['AF']==0) & (df_no_overlap['Arr']==0))]"
   ]
  },
  {
   "cell_type": "code",
   "execution_count": 9,
   "metadata": {},
   "outputs": [],
   "source": [
    "only_disease_df = df_no_overlap[((df_no_overlap['AF']==1) | (df_no_overlap['Arr']==1))] "
   ]
  },
  {
   "cell_type": "code",
   "execution_count": 10,
   "metadata": {},
   "outputs": [
    {
     "data": {
      "text/plain": [
       "(1844, 16)"
      ]
     },
     "execution_count": 10,
     "metadata": {},
     "output_type": "execute_result"
    }
   ],
   "source": [
    "only_disease_df.shape"
   ]
  },
  {
   "cell_type": "code",
   "execution_count": 11,
   "metadata": {},
   "outputs": [
    {
     "data": {
      "text/plain": [
       "(53895, 16)"
      ]
     },
     "execution_count": 11,
     "metadata": {},
     "output_type": "execute_result"
    }
   ],
   "source": [
    "df_no_overlap.shape"
   ]
  },
  {
   "cell_type": "code",
   "execution_count": 12,
   "metadata": {},
   "outputs": [],
   "source": [
    "### I am going to add the disease label now so I can remove outliers"
   ]
  },
  {
   "cell_type": "code",
   "execution_count": 13,
   "metadata": {},
   "outputs": [
    {
     "name": "stderr",
     "output_type": "stream",
     "text": [
      "C:\\Users\\user\\anaconda3\\lib\\site-packages\\pandas\\core\\indexing.py:1596: SettingWithCopyWarning: \n",
      "A value is trying to be set on a copy of a slice from a DataFrame.\n",
      "Try using .loc[row_indexer,col_indexer] = value instead\n",
      "\n",
      "See the caveats in the documentation: https://pandas.pydata.org/pandas-docs/stable/user_guide/indexing.html#returning-a-view-versus-a-copy\n",
      "  self.obj[key] = _infer_fill_value(value)\n",
      "C:\\Users\\user\\anaconda3\\lib\\site-packages\\pandas\\core\\indexing.py:1601: SettingWithCopyWarning: \n",
      "A value is trying to be set on a copy of a slice from a DataFrame\n",
      "\n",
      "See the caveats in the documentation: https://pandas.pydata.org/pandas-docs/stable/user_guide/indexing.html#returning-a-view-versus-a-copy\n",
      "  self._setitem_with_indexer(new_indexer, value)\n",
      "C:\\Users\\user\\anaconda3\\lib\\site-packages\\pandas\\core\\indexing.py:670: SettingWithCopyWarning: \n",
      "A value is trying to be set on a copy of a slice from a DataFrame\n",
      "\n",
      "See the caveats in the documentation: https://pandas.pydata.org/pandas-docs/stable/user_guide/indexing.html#returning-a-view-versus-a-copy\n",
      "  iloc._setitem_with_indexer(indexer, value)\n",
      "C:\\Users\\user\\anaconda3\\lib\\site-packages\\pandas\\core\\indexing.py:670: SettingWithCopyWarning: \n",
      "A value is trying to be set on a copy of a slice from a DataFrame\n",
      "\n",
      "See the caveats in the documentation: https://pandas.pydata.org/pandas-docs/stable/user_guide/indexing.html#returning-a-view-versus-a-copy\n",
      "  iloc._setitem_with_indexer(indexer, value)\n",
      "<ipython-input-13-43df0e1e79c9>:2: SettingWithCopyWarning: \n",
      "A value is trying to be set on a copy of a slice from a DataFrame\n",
      "\n",
      "See the caveats in the documentation: https://pandas.pydata.org/pandas-docs/stable/user_guide/indexing.html#returning-a-view-versus-a-copy\n",
      "  only_disease_df.loc[(only_disease_df['Arr'] == 1) & (only_disease_df['AF'] == 0), 'Disease'] = 1\n"
     ]
    }
   ],
   "source": [
    "only_disease_df.loc[(only_disease_df['Arr'] == 0) & (only_disease_df['AF'] == 1), 'Disease'] = 0\n",
    "only_disease_df.loc[(only_disease_df['Arr'] == 1) & (only_disease_df['AF'] == 0), 'Disease'] = 1"
   ]
  },
  {
   "cell_type": "code",
   "execution_count": 14,
   "metadata": {},
   "outputs": [
    {
     "data": {
      "text/html": [
       "<div>\n",
       "<style scoped>\n",
       "    .dataframe tbody tr th:only-of-type {\n",
       "        vertical-align: middle;\n",
       "    }\n",
       "\n",
       "    .dataframe tbody tr th {\n",
       "        vertical-align: top;\n",
       "    }\n",
       "\n",
       "    .dataframe thead th {\n",
       "        text-align: right;\n",
       "    }\n",
       "</style>\n",
       "<table border=\"1\" class=\"dataframe\">\n",
       "  <thead>\n",
       "    <tr style=\"text-align: right;\">\n",
       "      <th></th>\n",
       "      <th>eid</th>\n",
       "      <th>sex</th>\n",
       "      <th>RRrest</th>\n",
       "      <th>Tperest</th>\n",
       "      <th>QTc</th>\n",
       "      <th>QRS_rest</th>\n",
       "      <th>Age</th>\n",
       "      <th>BMI</th>\n",
       "      <th>Diab</th>\n",
       "      <th>smoke</th>\n",
       "      <th>DBP</th>\n",
       "      <th>SBP</th>\n",
       "      <th>chol</th>\n",
       "      <th>PR</th>\n",
       "      <th>AF</th>\n",
       "      <th>Arr</th>\n",
       "      <th>Disease</th>\n",
       "    </tr>\n",
       "  </thead>\n",
       "  <tbody>\n",
       "    <tr>\n",
       "      <th>35</th>\n",
       "      <td>1003429.0</td>\n",
       "      <td>1.0</td>\n",
       "      <td>0.968</td>\n",
       "      <td>0.0645</td>\n",
       "      <td>0.355230</td>\n",
       "      <td>96.0</td>\n",
       "      <td>74.0</td>\n",
       "      <td>34.8141</td>\n",
       "      <td>0.0</td>\n",
       "      <td>0.0</td>\n",
       "      <td>85.5</td>\n",
       "      <td>141.5</td>\n",
       "      <td>0.0</td>\n",
       "      <td>166.0</td>\n",
       "      <td>1.0</td>\n",
       "      <td>0.0</td>\n",
       "      <td>0.0</td>\n",
       "    </tr>\n",
       "    <tr>\n",
       "      <th>44</th>\n",
       "      <td>1003947.0</td>\n",
       "      <td>1.0</td>\n",
       "      <td>0.858</td>\n",
       "      <td>0.0585</td>\n",
       "      <td>0.361661</td>\n",
       "      <td>76.0</td>\n",
       "      <td>67.0</td>\n",
       "      <td>28.8612</td>\n",
       "      <td>0.0</td>\n",
       "      <td>0.0</td>\n",
       "      <td>85.5</td>\n",
       "      <td>154.5</td>\n",
       "      <td>1.0</td>\n",
       "      <td>389.0</td>\n",
       "      <td>1.0</td>\n",
       "      <td>0.0</td>\n",
       "      <td>0.0</td>\n",
       "    </tr>\n",
       "    <tr>\n",
       "      <th>196</th>\n",
       "      <td>1017479.0</td>\n",
       "      <td>0.0</td>\n",
       "      <td>0.861</td>\n",
       "      <td>0.0690</td>\n",
       "      <td>0.452635</td>\n",
       "      <td>69.0</td>\n",
       "      <td>67.0</td>\n",
       "      <td>25.5567</td>\n",
       "      <td>0.0</td>\n",
       "      <td>0.0</td>\n",
       "      <td>64.5</td>\n",
       "      <td>116.0</td>\n",
       "      <td>0.0</td>\n",
       "      <td>131.0</td>\n",
       "      <td>1.0</td>\n",
       "      <td>0.0</td>\n",
       "      <td>0.0</td>\n",
       "    </tr>\n",
       "    <tr>\n",
       "      <th>199</th>\n",
       "      <td>1017854.0</td>\n",
       "      <td>1.0</td>\n",
       "      <td>0.807</td>\n",
       "      <td>0.0665</td>\n",
       "      <td>0.387941</td>\n",
       "      <td>50.0</td>\n",
       "      <td>43.0</td>\n",
       "      <td>32.2029</td>\n",
       "      <td>0.0</td>\n",
       "      <td>0.0</td>\n",
       "      <td>81.0</td>\n",
       "      <td>131.0</td>\n",
       "      <td>0.0</td>\n",
       "      <td>146.0</td>\n",
       "      <td>1.0</td>\n",
       "      <td>0.0</td>\n",
       "      <td>0.0</td>\n",
       "    </tr>\n",
       "    <tr>\n",
       "      <th>215</th>\n",
       "      <td>1019465.0</td>\n",
       "      <td>0.0</td>\n",
       "      <td>1.020</td>\n",
       "      <td>0.0525</td>\n",
       "      <td>0.382692</td>\n",
       "      <td>44.0</td>\n",
       "      <td>64.0</td>\n",
       "      <td>29.9301</td>\n",
       "      <td>0.0</td>\n",
       "      <td>0.0</td>\n",
       "      <td>84.0</td>\n",
       "      <td>152.5</td>\n",
       "      <td>1.0</td>\n",
       "      <td>138.0</td>\n",
       "      <td>1.0</td>\n",
       "      <td>0.0</td>\n",
       "      <td>0.0</td>\n",
       "    </tr>\n",
       "  </tbody>\n",
       "</table>\n",
       "</div>"
      ],
      "text/plain": [
       "           eid  sex  RRrest  Tperest       QTc  QRS_rest   Age      BMI  Diab  \\\n",
       "35   1003429.0  1.0   0.968   0.0645  0.355230      96.0  74.0  34.8141   0.0   \n",
       "44   1003947.0  1.0   0.858   0.0585  0.361661      76.0  67.0  28.8612   0.0   \n",
       "196  1017479.0  0.0   0.861   0.0690  0.452635      69.0  67.0  25.5567   0.0   \n",
       "199  1017854.0  1.0   0.807   0.0665  0.387941      50.0  43.0  32.2029   0.0   \n",
       "215  1019465.0  0.0   1.020   0.0525  0.382692      44.0  64.0  29.9301   0.0   \n",
       "\n",
       "     smoke   DBP    SBP  chol     PR   AF  Arr  Disease  \n",
       "35     0.0  85.5  141.5   0.0  166.0  1.0  0.0      0.0  \n",
       "44     0.0  85.5  154.5   1.0  389.0  1.0  0.0      0.0  \n",
       "196    0.0  64.5  116.0   0.0  131.0  1.0  0.0      0.0  \n",
       "199    0.0  81.0  131.0   0.0  146.0  1.0  0.0      0.0  \n",
       "215    0.0  84.0  152.5   1.0  138.0  1.0  0.0      0.0  "
      ]
     },
     "execution_count": 14,
     "metadata": {},
     "output_type": "execute_result"
    }
   ],
   "source": [
    "only_disease_df.head()"
   ]
  },
  {
   "cell_type": "markdown",
   "metadata": {},
   "source": [
    "### Isolation Forest"
   ]
  },
  {
   "cell_type": "code",
   "execution_count": 15,
   "metadata": {},
   "outputs": [],
   "source": [
    "from sklearn.ensemble import IsolationForest\n",
    "data = only_disease_df.drop(columns=['AF', 'Arr']).to_numpy()\n",
    "X , y = data[:, :-1], data[:, -1]\n",
    "\n",
    "iso = IsolationForest(contamination=0.3)\n",
    "yhat = iso.fit_predict(X)\n",
    "# select all rows that are not outliers\n",
    "mask = yhat != -1\n",
    "afterX, aftery = X[mask, :], y[mask]"
   ]
  },
  {
   "cell_type": "code",
   "execution_count": 16,
   "metadata": {},
   "outputs": [
    {
     "name": "stdout",
     "output_type": "stream",
     "text": [
      "No of AF cases before (1682,)\n",
      "No of AF cases after outlier removal (1176,)\n",
      "No of Arr cases before (162,)\n",
      "No of Arr cases after outlier removal (115,)\n"
     ]
    }
   ],
   "source": [
    "print('No of AF cases before', y[y== 0].shape)\n",
    "print('No of AF cases after outlier removal', aftery[aftery == 0].shape)\n",
    "\n",
    "print('No of Arr cases before',y[y == 1].shape)\n",
    "print('No of Arr cases after outlier removal', aftery[aftery== 1].shape)"
   ]
  },
  {
   "cell_type": "code",
   "execution_count": 17,
   "metadata": {},
   "outputs": [],
   "source": [
    "unhealthy_df_no_outliers = pd.DataFrame(afterX,  columns = ['eid', 'sex', 'RRrest', 'Tperest', 'QTc', 'QRS_rest', 'Age', 'BMI', 'Diab', 'smoke', 'DBP', 'SBP', 'chol', 'PR'])"
   ]
  },
  {
   "cell_type": "code",
   "execution_count": 18,
   "metadata": {},
   "outputs": [
    {
     "data": {
      "text/html": [
       "<div>\n",
       "<style scoped>\n",
       "    .dataframe tbody tr th:only-of-type {\n",
       "        vertical-align: middle;\n",
       "    }\n",
       "\n",
       "    .dataframe tbody tr th {\n",
       "        vertical-align: top;\n",
       "    }\n",
       "\n",
       "    .dataframe thead th {\n",
       "        text-align: right;\n",
       "    }\n",
       "</style>\n",
       "<table border=\"1\" class=\"dataframe\">\n",
       "  <thead>\n",
       "    <tr style=\"text-align: right;\">\n",
       "      <th></th>\n",
       "      <th>eid</th>\n",
       "      <th>sex</th>\n",
       "      <th>RRrest</th>\n",
       "      <th>Tperest</th>\n",
       "      <th>QTc</th>\n",
       "      <th>QRS_rest</th>\n",
       "      <th>Age</th>\n",
       "      <th>BMI</th>\n",
       "      <th>Diab</th>\n",
       "      <th>smoke</th>\n",
       "      <th>DBP</th>\n",
       "      <th>SBP</th>\n",
       "      <th>chol</th>\n",
       "      <th>PR</th>\n",
       "    </tr>\n",
       "  </thead>\n",
       "  <tbody>\n",
       "    <tr>\n",
       "      <th>0</th>\n",
       "      <td>1022683.0</td>\n",
       "      <td>0.0</td>\n",
       "      <td>0.906</td>\n",
       "      <td>0.0715</td>\n",
       "      <td>0.419188</td>\n",
       "      <td>76.0</td>\n",
       "      <td>58.0</td>\n",
       "      <td>26.7149</td>\n",
       "      <td>0.0</td>\n",
       "      <td>1.0</td>\n",
       "      <td>98.0</td>\n",
       "      <td>151.5</td>\n",
       "      <td>0.0</td>\n",
       "      <td>162.0</td>\n",
       "    </tr>\n",
       "    <tr>\n",
       "      <th>1</th>\n",
       "      <td>1028491.0</td>\n",
       "      <td>0.0</td>\n",
       "      <td>0.854</td>\n",
       "      <td>0.0735</td>\n",
       "      <td>0.430679</td>\n",
       "      <td>69.0</td>\n",
       "      <td>62.0</td>\n",
       "      <td>28.7415</td>\n",
       "      <td>0.0</td>\n",
       "      <td>1.0</td>\n",
       "      <td>91.5</td>\n",
       "      <td>170.0</td>\n",
       "      <td>0.0</td>\n",
       "      <td>136.0</td>\n",
       "    </tr>\n",
       "    <tr>\n",
       "      <th>2</th>\n",
       "      <td>1028813.0</td>\n",
       "      <td>1.0</td>\n",
       "      <td>0.718</td>\n",
       "      <td>0.0570</td>\n",
       "      <td>0.395941</td>\n",
       "      <td>70.0</td>\n",
       "      <td>65.0</td>\n",
       "      <td>29.9921</td>\n",
       "      <td>0.0</td>\n",
       "      <td>0.0</td>\n",
       "      <td>92.5</td>\n",
       "      <td>144.5</td>\n",
       "      <td>0.0</td>\n",
       "      <td>145.0</td>\n",
       "    </tr>\n",
       "    <tr>\n",
       "      <th>3</th>\n",
       "      <td>1028911.0</td>\n",
       "      <td>1.0</td>\n",
       "      <td>0.858</td>\n",
       "      <td>0.0720</td>\n",
       "      <td>0.425356</td>\n",
       "      <td>63.0</td>\n",
       "      <td>65.0</td>\n",
       "      <td>31.6839</td>\n",
       "      <td>0.0</td>\n",
       "      <td>0.0</td>\n",
       "      <td>76.0</td>\n",
       "      <td>163.5</td>\n",
       "      <td>0.0</td>\n",
       "      <td>130.0</td>\n",
       "    </tr>\n",
       "    <tr>\n",
       "      <th>4</th>\n",
       "      <td>1030445.0</td>\n",
       "      <td>0.0</td>\n",
       "      <td>0.872</td>\n",
       "      <td>0.0800</td>\n",
       "      <td>0.410148</td>\n",
       "      <td>55.0</td>\n",
       "      <td>65.0</td>\n",
       "      <td>23.7500</td>\n",
       "      <td>0.0</td>\n",
       "      <td>0.0</td>\n",
       "      <td>72.0</td>\n",
       "      <td>126.5</td>\n",
       "      <td>0.0</td>\n",
       "      <td>157.0</td>\n",
       "    </tr>\n",
       "  </tbody>\n",
       "</table>\n",
       "</div>"
      ],
      "text/plain": [
       "         eid  sex  RRrest  Tperest       QTc  QRS_rest   Age      BMI  Diab  \\\n",
       "0  1022683.0  0.0   0.906   0.0715  0.419188      76.0  58.0  26.7149   0.0   \n",
       "1  1028491.0  0.0   0.854   0.0735  0.430679      69.0  62.0  28.7415   0.0   \n",
       "2  1028813.0  1.0   0.718   0.0570  0.395941      70.0  65.0  29.9921   0.0   \n",
       "3  1028911.0  1.0   0.858   0.0720  0.425356      63.0  65.0  31.6839   0.0   \n",
       "4  1030445.0  0.0   0.872   0.0800  0.410148      55.0  65.0  23.7500   0.0   \n",
       "\n",
       "   smoke   DBP    SBP  chol     PR  \n",
       "0    1.0  98.0  151.5   0.0  162.0  \n",
       "1    1.0  91.5  170.0   0.0  136.0  \n",
       "2    0.0  92.5  144.5   0.0  145.0  \n",
       "3    0.0  76.0  163.5   0.0  130.0  \n",
       "4    0.0  72.0  126.5   0.0  157.0  "
      ]
     },
     "execution_count": 18,
     "metadata": {},
     "output_type": "execute_result"
    }
   ],
   "source": [
    "unhealthy_df_no_outliers.head()"
   ]
  },
  {
   "cell_type": "code",
   "execution_count": 19,
   "metadata": {},
   "outputs": [],
   "source": [
    "test = unhealthy_df_no_outliers.copy()\n",
    "kk = only_disease_df.copy()\n",
    "\n",
    "j1 = test.set_index('eid').index\n",
    "j2 = kk.set_index('eid').index\n",
    "j3 = kk.set_index('eid').index\n",
    "unhealthy_df_no_outliers =  kk[j3.isin(j1)]"
   ]
  },
  {
   "cell_type": "code",
   "execution_count": 20,
   "metadata": {},
   "outputs": [
    {
     "data": {
      "text/html": [
       "<div>\n",
       "<style scoped>\n",
       "    .dataframe tbody tr th:only-of-type {\n",
       "        vertical-align: middle;\n",
       "    }\n",
       "\n",
       "    .dataframe tbody tr th {\n",
       "        vertical-align: top;\n",
       "    }\n",
       "\n",
       "    .dataframe thead th {\n",
       "        text-align: right;\n",
       "    }\n",
       "</style>\n",
       "<table border=\"1\" class=\"dataframe\">\n",
       "  <thead>\n",
       "    <tr style=\"text-align: right;\">\n",
       "      <th></th>\n",
       "      <th>eid</th>\n",
       "      <th>sex</th>\n",
       "      <th>RRrest</th>\n",
       "      <th>Tperest</th>\n",
       "      <th>QTc</th>\n",
       "      <th>QRS_rest</th>\n",
       "      <th>Age</th>\n",
       "      <th>BMI</th>\n",
       "      <th>Diab</th>\n",
       "      <th>smoke</th>\n",
       "      <th>DBP</th>\n",
       "      <th>SBP</th>\n",
       "      <th>chol</th>\n",
       "      <th>PR</th>\n",
       "      <th>AF</th>\n",
       "      <th>Arr</th>\n",
       "      <th>Disease</th>\n",
       "    </tr>\n",
       "  </thead>\n",
       "  <tbody>\n",
       "    <tr>\n",
       "      <th>256</th>\n",
       "      <td>1022683.0</td>\n",
       "      <td>0.0</td>\n",
       "      <td>0.906</td>\n",
       "      <td>0.0715</td>\n",
       "      <td>0.419188</td>\n",
       "      <td>76.0</td>\n",
       "      <td>58.0</td>\n",
       "      <td>26.7149</td>\n",
       "      <td>0.0</td>\n",
       "      <td>1.0</td>\n",
       "      <td>98.0</td>\n",
       "      <td>151.5</td>\n",
       "      <td>0.0</td>\n",
       "      <td>162.0</td>\n",
       "      <td>1.0</td>\n",
       "      <td>0.0</td>\n",
       "      <td>0.0</td>\n",
       "    </tr>\n",
       "    <tr>\n",
       "      <th>310</th>\n",
       "      <td>1028491.0</td>\n",
       "      <td>0.0</td>\n",
       "      <td>0.854</td>\n",
       "      <td>0.0735</td>\n",
       "      <td>0.430679</td>\n",
       "      <td>69.0</td>\n",
       "      <td>62.0</td>\n",
       "      <td>28.7415</td>\n",
       "      <td>0.0</td>\n",
       "      <td>1.0</td>\n",
       "      <td>91.5</td>\n",
       "      <td>170.0</td>\n",
       "      <td>0.0</td>\n",
       "      <td>136.0</td>\n",
       "      <td>1.0</td>\n",
       "      <td>0.0</td>\n",
       "      <td>0.0</td>\n",
       "    </tr>\n",
       "    <tr>\n",
       "      <th>314</th>\n",
       "      <td>1028813.0</td>\n",
       "      <td>1.0</td>\n",
       "      <td>0.718</td>\n",
       "      <td>0.0570</td>\n",
       "      <td>0.395941</td>\n",
       "      <td>70.0</td>\n",
       "      <td>65.0</td>\n",
       "      <td>29.9921</td>\n",
       "      <td>0.0</td>\n",
       "      <td>0.0</td>\n",
       "      <td>92.5</td>\n",
       "      <td>144.5</td>\n",
       "      <td>0.0</td>\n",
       "      <td>145.0</td>\n",
       "      <td>1.0</td>\n",
       "      <td>0.0</td>\n",
       "      <td>0.0</td>\n",
       "    </tr>\n",
       "    <tr>\n",
       "      <th>317</th>\n",
       "      <td>1028911.0</td>\n",
       "      <td>1.0</td>\n",
       "      <td>0.858</td>\n",
       "      <td>0.0720</td>\n",
       "      <td>0.425356</td>\n",
       "      <td>63.0</td>\n",
       "      <td>65.0</td>\n",
       "      <td>31.6839</td>\n",
       "      <td>0.0</td>\n",
       "      <td>0.0</td>\n",
       "      <td>76.0</td>\n",
       "      <td>163.5</td>\n",
       "      <td>0.0</td>\n",
       "      <td>130.0</td>\n",
       "      <td>1.0</td>\n",
       "      <td>0.0</td>\n",
       "      <td>0.0</td>\n",
       "    </tr>\n",
       "    <tr>\n",
       "      <th>333</th>\n",
       "      <td>1030445.0</td>\n",
       "      <td>0.0</td>\n",
       "      <td>0.872</td>\n",
       "      <td>0.0800</td>\n",
       "      <td>0.410148</td>\n",
       "      <td>55.0</td>\n",
       "      <td>65.0</td>\n",
       "      <td>23.7500</td>\n",
       "      <td>0.0</td>\n",
       "      <td>0.0</td>\n",
       "      <td>72.0</td>\n",
       "      <td>126.5</td>\n",
       "      <td>0.0</td>\n",
       "      <td>157.0</td>\n",
       "      <td>1.0</td>\n",
       "      <td>0.0</td>\n",
       "      <td>0.0</td>\n",
       "    </tr>\n",
       "  </tbody>\n",
       "</table>\n",
       "</div>"
      ],
      "text/plain": [
       "           eid  sex  RRrest  Tperest       QTc  QRS_rest   Age      BMI  Diab  \\\n",
       "256  1022683.0  0.0   0.906   0.0715  0.419188      76.0  58.0  26.7149   0.0   \n",
       "310  1028491.0  0.0   0.854   0.0735  0.430679      69.0  62.0  28.7415   0.0   \n",
       "314  1028813.0  1.0   0.718   0.0570  0.395941      70.0  65.0  29.9921   0.0   \n",
       "317  1028911.0  1.0   0.858   0.0720  0.425356      63.0  65.0  31.6839   0.0   \n",
       "333  1030445.0  0.0   0.872   0.0800  0.410148      55.0  65.0  23.7500   0.0   \n",
       "\n",
       "     smoke   DBP    SBP  chol     PR   AF  Arr  Disease  \n",
       "256    1.0  98.0  151.5   0.0  162.0  1.0  0.0      0.0  \n",
       "310    1.0  91.5  170.0   0.0  136.0  1.0  0.0      0.0  \n",
       "314    0.0  92.5  144.5   0.0  145.0  1.0  0.0      0.0  \n",
       "317    0.0  76.0  163.5   0.0  130.0  1.0  0.0      0.0  \n",
       "333    0.0  72.0  126.5   0.0  157.0  1.0  0.0      0.0  "
      ]
     },
     "execution_count": 20,
     "metadata": {},
     "output_type": "execute_result"
    }
   ],
   "source": [
    "unhealthy_df_no_outliers.head()"
   ]
  },
  {
   "cell_type": "code",
   "execution_count": 21,
   "metadata": {},
   "outputs": [],
   "source": [
    "### setting aside test sample so the classifier doesn't perform data leakage"
   ]
  },
  {
   "cell_type": "code",
   "execution_count": 22,
   "metadata": {},
   "outputs": [],
   "source": [
    "choosing_samples_AF = unhealthy_df_no_outliers[unhealthy_df_no_outliers['AF'] == 1]\n",
    "choosing_samples_Arr =  unhealthy_df_no_outliers[unhealthy_df_no_outliers['Arr'] == 1]\n",
    "\n",
    "test_AF_samples = choosing_samples_AF.sample(10, replace=False, random_state = 123)\n",
    "test_Arr_samples = choosing_samples_Arr.sample(10, replace=False, random_state = 123)"
   ]
  },
  {
   "cell_type": "code",
   "execution_count": 23,
   "metadata": {},
   "outputs": [],
   "source": [
    "test_sample = pd.concat([test_AF_samples, test_Arr_samples])"
   ]
  },
  {
   "cell_type": "code",
   "execution_count": 24,
   "metadata": {},
   "outputs": [],
   "source": [
    "#test_sample = without_outliers.sample(100, replace=False, random_state = 123)\n",
    "j1 = test_sample.set_index('eid').index\n",
    "j2 = unhealthy_df_no_outliers.set_index('eid').index\n",
    "j3 = unhealthy_df_no_outliers.set_index('eid').index\n",
    "sample_to_use = unhealthy_df_no_outliers[~j2.isin(j1)]\n",
    "sample_to_use_withlabels =  unhealthy_df_no_outliers[~j3.isin(j1)]"
   ]
  },
  {
   "cell_type": "code",
   "execution_count": 25,
   "metadata": {},
   "outputs": [
    {
     "data": {
      "text/plain": [
       "(1271, 17)"
      ]
     },
     "execution_count": 25,
     "metadata": {},
     "output_type": "execute_result"
    }
   ],
   "source": [
    "sample_to_use.shape"
   ]
  },
  {
   "cell_type": "code",
   "execution_count": 26,
   "metadata": {},
   "outputs": [
    {
     "data": {
      "text/plain": [
       "1.0    10\n",
       "0.0    10\n",
       "Name: Disease, dtype: int64"
      ]
     },
     "execution_count": 26,
     "metadata": {},
     "output_type": "execute_result"
    }
   ],
   "source": [
    "test_sample['Disease'].value_counts()"
   ]
  },
  {
   "cell_type": "code",
   "execution_count": 27,
   "metadata": {},
   "outputs": [
    {
     "data": {
      "text/plain": [
       "Index(['eid', 'sex', 'RRrest', 'Tperest', 'QTc', 'QRS_rest', 'Age', 'BMI',\n",
       "       'Diab', 'smoke', 'DBP', 'SBP', 'chol', 'PR', 'AF', 'Arr', 'Disease'],\n",
       "      dtype='object')"
      ]
     },
     "execution_count": 27,
     "metadata": {},
     "output_type": "execute_result"
    }
   ],
   "source": [
    "test_sample.columns"
   ]
  },
  {
   "cell_type": "code",
   "execution_count": 28,
   "metadata": {},
   "outputs": [
    {
     "data": {
      "text/plain": [
       "(20, 17)"
      ]
     },
     "execution_count": 28,
     "metadata": {},
     "output_type": "execute_result"
    }
   ],
   "source": [
    "test_sample.shape"
   ]
  },
  {
   "cell_type": "code",
   "execution_count": 29,
   "metadata": {},
   "outputs": [
    {
     "data": {
      "text/plain": [
       "(1271, 17)"
      ]
     },
     "execution_count": 29,
     "metadata": {},
     "output_type": "execute_result"
    }
   ],
   "source": [
    "sample_to_use.shape"
   ]
  },
  {
   "cell_type": "code",
   "execution_count": 30,
   "metadata": {},
   "outputs": [],
   "source": [
    "AF_data = sample_to_use.drop(columns=['Arr'], axis=1) # data with only the AF label\n",
    "Arr_data = sample_to_use.drop(columns=['AF'], axis=1) # data with only the Arr label"
   ]
  },
  {
   "cell_type": "code",
   "execution_count": 31,
   "metadata": {},
   "outputs": [],
   "source": [
    "test_sample.loc[(test_sample['Arr'] == 0) | (test_sample['AF'] == 1), 'Disease'] = 0\n",
    "test_sample.loc[(test_sample['Arr'] == 1) & (test_sample['AF'] == 0), 'Disease'] = 1"
   ]
  },
  {
   "cell_type": "code",
   "execution_count": 32,
   "metadata": {},
   "outputs": [],
   "source": [
    "test_sample = test_sample[((test_sample['AF']==1) | (test_sample['Arr']==1))]"
   ]
  },
  {
   "cell_type": "code",
   "execution_count": 33,
   "metadata": {},
   "outputs": [
    {
     "data": {
      "text/html": [
       "<div>\n",
       "<style scoped>\n",
       "    .dataframe tbody tr th:only-of-type {\n",
       "        vertical-align: middle;\n",
       "    }\n",
       "\n",
       "    .dataframe tbody tr th {\n",
       "        vertical-align: top;\n",
       "    }\n",
       "\n",
       "    .dataframe thead th {\n",
       "        text-align: right;\n",
       "    }\n",
       "</style>\n",
       "<table border=\"1\" class=\"dataframe\">\n",
       "  <thead>\n",
       "    <tr style=\"text-align: right;\">\n",
       "      <th></th>\n",
       "      <th>eid</th>\n",
       "      <th>sex</th>\n",
       "      <th>RRrest</th>\n",
       "      <th>Tperest</th>\n",
       "      <th>QTc</th>\n",
       "      <th>QRS_rest</th>\n",
       "      <th>Age</th>\n",
       "      <th>BMI</th>\n",
       "      <th>Diab</th>\n",
       "      <th>smoke</th>\n",
       "      <th>DBP</th>\n",
       "      <th>SBP</th>\n",
       "      <th>chol</th>\n",
       "      <th>PR</th>\n",
       "      <th>AF</th>\n",
       "      <th>Arr</th>\n",
       "      <th>Disease</th>\n",
       "    </tr>\n",
       "  </thead>\n",
       "  <tbody>\n",
       "    <tr>\n",
       "      <th>33698</th>\n",
       "      <td>4122318.0</td>\n",
       "      <td>0.0</td>\n",
       "      <td>0.840</td>\n",
       "      <td>0.076</td>\n",
       "      <td>0.431526</td>\n",
       "      <td>54.0</td>\n",
       "      <td>67.0</td>\n",
       "      <td>22.3922</td>\n",
       "      <td>0.0</td>\n",
       "      <td>1.0</td>\n",
       "      <td>83.0</td>\n",
       "      <td>142.5</td>\n",
       "      <td>0.0</td>\n",
       "      <td>91.0</td>\n",
       "      <td>1.0</td>\n",
       "      <td>0.0</td>\n",
       "      <td>0.0</td>\n",
       "    </tr>\n",
       "    <tr>\n",
       "      <th>47274</th>\n",
       "      <td>5395735.0</td>\n",
       "      <td>1.0</td>\n",
       "      <td>0.848</td>\n",
       "      <td>0.051</td>\n",
       "      <td>0.427314</td>\n",
       "      <td>68.0</td>\n",
       "      <td>60.0</td>\n",
       "      <td>32.9120</td>\n",
       "      <td>0.0</td>\n",
       "      <td>1.0</td>\n",
       "      <td>92.5</td>\n",
       "      <td>137.5</td>\n",
       "      <td>0.0</td>\n",
       "      <td>115.0</td>\n",
       "      <td>1.0</td>\n",
       "      <td>0.0</td>\n",
       "      <td>0.0</td>\n",
       "    </tr>\n",
       "    <tr>\n",
       "      <th>4218</th>\n",
       "      <td>1393662.0</td>\n",
       "      <td>0.0</td>\n",
       "      <td>1.034</td>\n",
       "      <td>0.046</td>\n",
       "      <td>0.390910</td>\n",
       "      <td>65.0</td>\n",
       "      <td>65.0</td>\n",
       "      <td>28.3984</td>\n",
       "      <td>0.0</td>\n",
       "      <td>1.0</td>\n",
       "      <td>77.0</td>\n",
       "      <td>126.5</td>\n",
       "      <td>0.0</td>\n",
       "      <td>134.0</td>\n",
       "      <td>1.0</td>\n",
       "      <td>0.0</td>\n",
       "      <td>0.0</td>\n",
       "    </tr>\n",
       "    <tr>\n",
       "      <th>14553</th>\n",
       "      <td>2356718.0</td>\n",
       "      <td>1.0</td>\n",
       "      <td>0.924</td>\n",
       "      <td>0.061</td>\n",
       "      <td>0.391158</td>\n",
       "      <td>70.0</td>\n",
       "      <td>69.0</td>\n",
       "      <td>32.3023</td>\n",
       "      <td>0.0</td>\n",
       "      <td>0.0</td>\n",
       "      <td>67.5</td>\n",
       "      <td>128.0</td>\n",
       "      <td>1.0</td>\n",
       "      <td>133.0</td>\n",
       "      <td>1.0</td>\n",
       "      <td>0.0</td>\n",
       "      <td>0.0</td>\n",
       "    </tr>\n",
       "    <tr>\n",
       "      <th>48977</th>\n",
       "      <td>5554295.0</td>\n",
       "      <td>0.0</td>\n",
       "      <td>0.896</td>\n",
       "      <td>0.076</td>\n",
       "      <td>0.428388</td>\n",
       "      <td>65.0</td>\n",
       "      <td>63.0</td>\n",
       "      <td>32.1589</td>\n",
       "      <td>0.0</td>\n",
       "      <td>1.0</td>\n",
       "      <td>89.0</td>\n",
       "      <td>160.5</td>\n",
       "      <td>0.0</td>\n",
       "      <td>146.0</td>\n",
       "      <td>1.0</td>\n",
       "      <td>0.0</td>\n",
       "      <td>0.0</td>\n",
       "    </tr>\n",
       "  </tbody>\n",
       "</table>\n",
       "</div>"
      ],
      "text/plain": [
       "             eid  sex  RRrest  Tperest       QTc  QRS_rest   Age      BMI  \\\n",
       "33698  4122318.0  0.0   0.840    0.076  0.431526      54.0  67.0  22.3922   \n",
       "47274  5395735.0  1.0   0.848    0.051  0.427314      68.0  60.0  32.9120   \n",
       "4218   1393662.0  0.0   1.034    0.046  0.390910      65.0  65.0  28.3984   \n",
       "14553  2356718.0  1.0   0.924    0.061  0.391158      70.0  69.0  32.3023   \n",
       "48977  5554295.0  0.0   0.896    0.076  0.428388      65.0  63.0  32.1589   \n",
       "\n",
       "       Diab  smoke   DBP    SBP  chol     PR   AF  Arr  Disease  \n",
       "33698   0.0    1.0  83.0  142.5   0.0   91.0  1.0  0.0      0.0  \n",
       "47274   0.0    1.0  92.5  137.5   0.0  115.0  1.0  0.0      0.0  \n",
       "4218    0.0    1.0  77.0  126.5   0.0  134.0  1.0  0.0      0.0  \n",
       "14553   0.0    0.0  67.5  128.0   1.0  133.0  1.0  0.0      0.0  \n",
       "48977   0.0    1.0  89.0  160.5   0.0  146.0  1.0  0.0      0.0  "
      ]
     },
     "execution_count": 33,
     "metadata": {},
     "output_type": "execute_result"
    }
   ],
   "source": [
    "test_sample.head()\n"
   ]
  },
  {
   "cell_type": "code",
   "execution_count": 34,
   "metadata": {},
   "outputs": [],
   "source": [
    "sample_to_use = sample_to_use.drop(columns=['AF', 'Arr'])\n",
    "X = sample_to_use.loc[:, ~sample_to_use.columns.isin(['Disease', 'eid'])]\n",
    "y = sample_to_use['Disease']"
   ]
  },
  {
   "cell_type": "code",
   "execution_count": 35,
   "metadata": {},
   "outputs": [
    {
     "data": {
      "text/plain": [
       "(1291, 17)"
      ]
     },
     "execution_count": 35,
     "metadata": {},
     "output_type": "execute_result"
    }
   ],
   "source": [
    "unhealthy_df_no_outliers.shape"
   ]
  },
  {
   "cell_type": "code",
   "execution_count": 36,
   "metadata": {},
   "outputs": [],
   "source": [
    "test_sample = test_sample.drop(columns=['AF', 'Arr'])\n",
    "X_test = test_sample.loc[:, ~test_sample.columns.isin(['Disease','eid'])]\n",
    "y_test = test_sample['Disease']"
   ]
  },
  {
   "cell_type": "code",
   "execution_count": 37,
   "metadata": {},
   "outputs": [
    {
     "data": {
      "text/html": [
       "<div>\n",
       "<style scoped>\n",
       "    .dataframe tbody tr th:only-of-type {\n",
       "        vertical-align: middle;\n",
       "    }\n",
       "\n",
       "    .dataframe tbody tr th {\n",
       "        vertical-align: top;\n",
       "    }\n",
       "\n",
       "    .dataframe thead th {\n",
       "        text-align: right;\n",
       "    }\n",
       "</style>\n",
       "<table border=\"1\" class=\"dataframe\">\n",
       "  <thead>\n",
       "    <tr style=\"text-align: right;\">\n",
       "      <th></th>\n",
       "      <th>sex</th>\n",
       "      <th>RRrest</th>\n",
       "      <th>Tperest</th>\n",
       "      <th>QTc</th>\n",
       "      <th>QRS_rest</th>\n",
       "      <th>Age</th>\n",
       "      <th>BMI</th>\n",
       "      <th>Diab</th>\n",
       "      <th>smoke</th>\n",
       "      <th>DBP</th>\n",
       "      <th>SBP</th>\n",
       "      <th>chol</th>\n",
       "      <th>PR</th>\n",
       "    </tr>\n",
       "  </thead>\n",
       "  <tbody>\n",
       "    <tr>\n",
       "      <th>33698</th>\n",
       "      <td>0.0</td>\n",
       "      <td>0.840</td>\n",
       "      <td>0.076</td>\n",
       "      <td>0.431526</td>\n",
       "      <td>54.0</td>\n",
       "      <td>67.0</td>\n",
       "      <td>22.3922</td>\n",
       "      <td>0.0</td>\n",
       "      <td>1.0</td>\n",
       "      <td>83.0</td>\n",
       "      <td>142.5</td>\n",
       "      <td>0.0</td>\n",
       "      <td>91.0</td>\n",
       "    </tr>\n",
       "    <tr>\n",
       "      <th>47274</th>\n",
       "      <td>1.0</td>\n",
       "      <td>0.848</td>\n",
       "      <td>0.051</td>\n",
       "      <td>0.427314</td>\n",
       "      <td>68.0</td>\n",
       "      <td>60.0</td>\n",
       "      <td>32.9120</td>\n",
       "      <td>0.0</td>\n",
       "      <td>1.0</td>\n",
       "      <td>92.5</td>\n",
       "      <td>137.5</td>\n",
       "      <td>0.0</td>\n",
       "      <td>115.0</td>\n",
       "    </tr>\n",
       "    <tr>\n",
       "      <th>4218</th>\n",
       "      <td>0.0</td>\n",
       "      <td>1.034</td>\n",
       "      <td>0.046</td>\n",
       "      <td>0.390910</td>\n",
       "      <td>65.0</td>\n",
       "      <td>65.0</td>\n",
       "      <td>28.3984</td>\n",
       "      <td>0.0</td>\n",
       "      <td>1.0</td>\n",
       "      <td>77.0</td>\n",
       "      <td>126.5</td>\n",
       "      <td>0.0</td>\n",
       "      <td>134.0</td>\n",
       "    </tr>\n",
       "    <tr>\n",
       "      <th>14553</th>\n",
       "      <td>1.0</td>\n",
       "      <td>0.924</td>\n",
       "      <td>0.061</td>\n",
       "      <td>0.391158</td>\n",
       "      <td>70.0</td>\n",
       "      <td>69.0</td>\n",
       "      <td>32.3023</td>\n",
       "      <td>0.0</td>\n",
       "      <td>0.0</td>\n",
       "      <td>67.5</td>\n",
       "      <td>128.0</td>\n",
       "      <td>1.0</td>\n",
       "      <td>133.0</td>\n",
       "    </tr>\n",
       "    <tr>\n",
       "      <th>48977</th>\n",
       "      <td>0.0</td>\n",
       "      <td>0.896</td>\n",
       "      <td>0.076</td>\n",
       "      <td>0.428388</td>\n",
       "      <td>65.0</td>\n",
       "      <td>63.0</td>\n",
       "      <td>32.1589</td>\n",
       "      <td>0.0</td>\n",
       "      <td>1.0</td>\n",
       "      <td>89.0</td>\n",
       "      <td>160.5</td>\n",
       "      <td>0.0</td>\n",
       "      <td>146.0</td>\n",
       "    </tr>\n",
       "  </tbody>\n",
       "</table>\n",
       "</div>"
      ],
      "text/plain": [
       "       sex  RRrest  Tperest       QTc  QRS_rest   Age      BMI  Diab  smoke  \\\n",
       "33698  0.0   0.840    0.076  0.431526      54.0  67.0  22.3922   0.0    1.0   \n",
       "47274  1.0   0.848    0.051  0.427314      68.0  60.0  32.9120   0.0    1.0   \n",
       "4218   0.0   1.034    0.046  0.390910      65.0  65.0  28.3984   0.0    1.0   \n",
       "14553  1.0   0.924    0.061  0.391158      70.0  69.0  32.3023   0.0    0.0   \n",
       "48977  0.0   0.896    0.076  0.428388      65.0  63.0  32.1589   0.0    1.0   \n",
       "\n",
       "        DBP    SBP  chol     PR  \n",
       "33698  83.0  142.5   0.0   91.0  \n",
       "47274  92.5  137.5   0.0  115.0  \n",
       "4218   77.0  126.5   0.0  134.0  \n",
       "14553  67.5  128.0   1.0  133.0  \n",
       "48977  89.0  160.5   0.0  146.0  "
      ]
     },
     "execution_count": 37,
     "metadata": {},
     "output_type": "execute_result"
    }
   ],
   "source": [
    "X_test.head()"
   ]
  },
  {
   "cell_type": "code",
   "execution_count": 54,
   "metadata": {},
   "outputs": [],
   "source": [
    "from sklearn import svm\n",
    "from sklearn.ensemble import VotingClassifier\n",
    "from sklearn import model_selection\n",
    "from sklearn.discriminant_analysis import LinearDiscriminantAnalysis\n",
    "from sklearn import svm\n",
    "from sklearn.ensemble import AdaBoostClassifier\n",
    "from sklearn.naive_bayes import GaussianNB\n",
    "from sklearn.tree import DecisionTreeClassifier\n",
    "from sklearn.ensemble import GradientBoostingClassifier\n",
    "from sklearn.linear_model import SGDClassifier\n",
    "from sklearn.neighbors import KNeighborsClassifier\n",
    "from sklearn.ensemble import RandomForestClassifier\n",
    "from sklearn.model_selection import GridSearchCV\n",
    "estimators = []\n",
    "\n",
    "kfold = StratifiedKFold(n_splits=10, shuffle=True, random_state=123)\n",
    "model1 = xgb.XGBClassifier(objective='binary:logistic', subsample=0.75,  \n",
    "                          n_estimators=100, colsample_bytree = 0.99, learning_rate = 1,\n",
    "                max_depth = 10,  gamma=5, alpha = 1, seed=123, use_label_encoder=False, eval_metric='error')\n",
    "\n",
    "estimators.append(('XGBoost', model1))\n",
    "estimators.append(('bayes', GaussianNB()))\n",
    "estimators.append(('GradientDescent' , SGDClassifier(loss=\"modified_huber\", penalty=\"elasticnet\", max_iter=500)))\n",
    "ensemble = VotingClassifier(estimators, voting = 'soft')\n",
    "scoring = ['recall', 'f1']"
   ]
  },
  {
   "cell_type": "code",
   "execution_count": 55,
   "metadata": {},
   "outputs": [],
   "source": [
    "ensemble.fit(X, y)\n",
    "y_pred = ensemble.predict(X_test)"
   ]
  },
  {
   "cell_type": "code",
   "execution_count": 56,
   "metadata": {},
   "outputs": [
    {
     "data": {
      "text/plain": [
       "1.0    10\n",
       "0.0    10\n",
       "Name: Disease, dtype: int64"
      ]
     },
     "execution_count": 56,
     "metadata": {},
     "output_type": "execute_result"
    }
   ],
   "source": [
    "y_test.value_counts()"
   ]
  },
  {
   "cell_type": "code",
   "execution_count": 57,
   "metadata": {},
   "outputs": [
    {
     "data": {
      "text/plain": [
       "Counter({0.0: 7, 1.0: 13})"
      ]
     },
     "execution_count": 57,
     "metadata": {},
     "output_type": "execute_result"
    }
   ],
   "source": [
    "Counter(y_pred)"
   ]
  },
  {
   "cell_type": "code",
   "execution_count": 58,
   "metadata": {},
   "outputs": [
    {
     "name": "stdout",
     "output_type": "stream",
     "text": [
      "f1_score: 0.696\n",
      "Precision: 0.615\n",
      "Recall: 0.800\n"
     ]
    }
   ],
   "source": [
    "from sklearn.metrics import f1_score\n",
    "f1_score = f1_score(y_test, y_pred)\n",
    "print('f1_score: %.3f' % f1_score)\n",
    "from sklearn.metrics import precision_score\n",
    "precision = precision_score(y_test, y_pred)\n",
    "print('Precision: %.3f' % precision)\n",
    "\n",
    "from sklearn.metrics import recall_score\n",
    "recall = recall_score(y_test, y_pred, average='binary')\n",
    "print('Recall: %.3f' % recall)"
   ]
  },
  {
   "cell_type": "code",
   "execution_count": 59,
   "metadata": {},
   "outputs": [
    {
     "data": {
      "text/plain": [
       "<sklearn.metrics._plot.confusion_matrix.ConfusionMatrixDisplay at 0x1fe08be0220>"
      ]
     },
     "execution_count": 59,
     "metadata": {},
     "output_type": "execute_result"
    },
    {
     "data": {
      "image/png": "[encoded data removed]",
      "text/plain": [
       "<Figure size 432x288 with 2 Axes>"
      ]
     },
     "metadata": {
      "needs_background": "light"
     },
     "output_type": "display_data"
    }
   ],
   "source": [
    "plot_confusion_matrix(ensemble, X_test, y_test) "
   ]
  },
  {
   "cell_type": "code",
   "execution_count": 60,
   "metadata": {},
   "outputs": [
    {
     "name": "stdout",
     "output_type": "stream",
     "text": [
      "              precision    recall  f1-score   support\n",
      "\n",
      "         0.0       0.71      0.50      0.59        10\n",
      "         1.0       0.62      0.80      0.70        10\n",
      "\n",
      "    accuracy                           0.65        20\n",
      "   macro avg       0.66      0.65      0.64        20\n",
      "weighted avg       0.66      0.65      0.64        20\n",
      "\n"
     ]
    }
   ],
   "source": [
    "from sklearn.metrics import precision_recall_fscore_support,classification_report,confusion_matrix, precision_recall_curve\n",
    "print(classification_report(y_test, y_pred))"
   ]
  },
  {
   "cell_type": "code",
   "execution_count": null,
   "metadata": {},
   "outputs": [],
   "source": []
  },
  {
   "cell_type": "code",
   "execution_count": null,
   "metadata": {},
   "outputs": [],
   "source": []
  }
 ],
 "metadata": {
  "kernelspec": {
   "display_name": "Python 3",
   "language": "python",
   "name": "python3"
  },
  "language_info": {
   "codemirror_mode": {
    "name": "ipython",
    "version": 3
   },
   "file_extension": ".py",
   "mimetype": "text/x-python",
   "name": "python",
   "nbconvert_exporter": "python",
   "pygments_lexer": "ipython3",
   "version": "3.8.5"
  }
 },
 "nbformat": 4,
 "nbformat_minor": 4
}
